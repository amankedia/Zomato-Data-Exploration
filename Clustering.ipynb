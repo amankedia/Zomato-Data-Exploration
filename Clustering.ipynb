{
 "cells": [
  {
   "cell_type": "code",
   "execution_count": 2,
   "metadata": {},
   "outputs": [],
   "source": [
    "import pandas as pd\n",
    "import numpy as np\n",
    "import seaborn as sns\n",
    "import matplotlib.pyplot as plt\n",
    "import matplotlib.cm as cm\n",
    "from sklearn.preprocessing import LabelEncoder, OneHotEncoder, StandardScaler\n",
    "from sklearn.cluster import KMeans\n",
    "from sklearn.metrics import silhouette_samples, silhouette_score\n",
    "from collections import Counter"
   ]
  },
  {
   "cell_type": "code",
   "execution_count": 3,
   "metadata": {},
   "outputs": [],
   "source": [
    "df = pd.read_csv(\"zomato.csv\")\n",
    "df_orig = df.copy(deep = True)"
   ]
  },
  {
   "cell_type": "markdown",
   "metadata": {},
   "source": [
    "## Basic Exploratory Data Analysis"
   ]
  },
  {
   "cell_type": "code",
   "execution_count": 4,
   "metadata": {},
   "outputs": [
    {
     "name": "stdout",
     "output_type": "stream",
     "text": [
      "<class 'pandas.core.frame.DataFrame'>\n",
      "RangeIndex: 51717 entries, 0 to 51716\n",
      "Data columns (total 17 columns):\n",
      "url                            51717 non-null object\n",
      "address                        51717 non-null object\n",
      "name                           51717 non-null object\n",
      "online_order                   51717 non-null object\n",
      "book_table                     51717 non-null object\n",
      "rate                           43942 non-null object\n",
      "votes                          51717 non-null int64\n",
      "phone                          50509 non-null object\n",
      "location                       51696 non-null object\n",
      "rest_type                      51490 non-null object\n",
      "dish_liked                     23639 non-null object\n",
      "cuisines                       51672 non-null object\n",
      "approx_cost(for two people)    51371 non-null object\n",
      "reviews_list                   51717 non-null object\n",
      "menu_item                      51717 non-null object\n",
      "listed_in(type)                51717 non-null object\n",
      "listed_in(city)                51717 non-null object\n",
      "dtypes: int64(1), object(16)\n",
      "memory usage: 6.7+ MB\n"
     ]
    }
   ],
   "source": [
    "df.info()"
   ]
  },
  {
   "cell_type": "code",
   "execution_count": 5,
   "metadata": {},
   "outputs": [
    {
     "data": {
      "text/plain": [
       "url                                0\n",
       "address                            0\n",
       "name                               0\n",
       "online_order                       0\n",
       "book_table                         0\n",
       "rate                            7775\n",
       "votes                              0\n",
       "phone                           1208\n",
       "location                          21\n",
       "rest_type                        227\n",
       "dish_liked                     28078\n",
       "cuisines                          45\n",
       "approx_cost(for two people)      346\n",
       "reviews_list                       0\n",
       "menu_item                          0\n",
       "listed_in(type)                    0\n",
       "listed_in(city)                    0\n",
       "dtype: int64"
      ]
     },
     "execution_count": 5,
     "metadata": {},
     "output_type": "execute_result"
    }
   ],
   "source": [
    "df.isnull().sum()"
   ]
  },
  {
   "cell_type": "markdown",
   "metadata": {},
   "source": [
    "#### Observation: The columns rate, phone, location, rest_type, dish_liked, cuisines, approx_cost have missing values"
   ]
  },
  {
   "cell_type": "code",
   "execution_count": 6,
   "metadata": {},
   "outputs": [
    {
     "data": {
      "text/html": [
       "<div>\n",
       "<style scoped>\n",
       "    .dataframe tbody tr th:only-of-type {\n",
       "        vertical-align: middle;\n",
       "    }\n",
       "\n",
       "    .dataframe tbody tr th {\n",
       "        vertical-align: top;\n",
       "    }\n",
       "\n",
       "    .dataframe thead th {\n",
       "        text-align: right;\n",
       "    }\n",
       "</style>\n",
       "<table border=\"1\" class=\"dataframe\">\n",
       "  <thead>\n",
       "    <tr style=\"text-align: right;\">\n",
       "      <th></th>\n",
       "      <th>url</th>\n",
       "      <th>address</th>\n",
       "      <th>name</th>\n",
       "      <th>online_order</th>\n",
       "      <th>book_table</th>\n",
       "      <th>rate</th>\n",
       "      <th>votes</th>\n",
       "      <th>phone</th>\n",
       "      <th>location</th>\n",
       "      <th>rest_type</th>\n",
       "      <th>dish_liked</th>\n",
       "      <th>cuisines</th>\n",
       "      <th>approx_cost(for two people)</th>\n",
       "      <th>reviews_list</th>\n",
       "      <th>menu_item</th>\n",
       "      <th>listed_in(type)</th>\n",
       "      <th>listed_in(city)</th>\n",
       "    </tr>\n",
       "  </thead>\n",
       "  <tbody>\n",
       "    <tr>\n",
       "      <td>0</td>\n",
       "      <td>https://www.zomato.com/bangalore/jalsa-banasha...</td>\n",
       "      <td>942, 21st Main Road, 2nd Stage, Banashankari, ...</td>\n",
       "      <td>Jalsa</td>\n",
       "      <td>Yes</td>\n",
       "      <td>Yes</td>\n",
       "      <td>4.1/5</td>\n",
       "      <td>775</td>\n",
       "      <td>080 42297555\\r\\n+91 9743772233</td>\n",
       "      <td>Banashankari</td>\n",
       "      <td>Casual Dining</td>\n",
       "      <td>Pasta, Lunch Buffet, Masala Papad, Paneer Laja...</td>\n",
       "      <td>North Indian, Mughlai, Chinese</td>\n",
       "      <td>800</td>\n",
       "      <td>[('Rated 4.0', 'RATED\\n  A beautiful place to ...</td>\n",
       "      <td>[]</td>\n",
       "      <td>Buffet</td>\n",
       "      <td>Banashankari</td>\n",
       "    </tr>\n",
       "    <tr>\n",
       "      <td>1</td>\n",
       "      <td>https://www.zomato.com/bangalore/spice-elephan...</td>\n",
       "      <td>2nd Floor, 80 Feet Road, Near Big Bazaar, 6th ...</td>\n",
       "      <td>Spice Elephant</td>\n",
       "      <td>Yes</td>\n",
       "      <td>No</td>\n",
       "      <td>4.1/5</td>\n",
       "      <td>787</td>\n",
       "      <td>080 41714161</td>\n",
       "      <td>Banashankari</td>\n",
       "      <td>Casual Dining</td>\n",
       "      <td>Momos, Lunch Buffet, Chocolate Nirvana, Thai G...</td>\n",
       "      <td>Chinese, North Indian, Thai</td>\n",
       "      <td>800</td>\n",
       "      <td>[('Rated 4.0', 'RATED\\n  Had been here for din...</td>\n",
       "      <td>[]</td>\n",
       "      <td>Buffet</td>\n",
       "      <td>Banashankari</td>\n",
       "    </tr>\n",
       "    <tr>\n",
       "      <td>2</td>\n",
       "      <td>https://www.zomato.com/SanchurroBangalore?cont...</td>\n",
       "      <td>1112, Next to KIMS Medical College, 17th Cross...</td>\n",
       "      <td>San Churro Cafe</td>\n",
       "      <td>Yes</td>\n",
       "      <td>No</td>\n",
       "      <td>3.8/5</td>\n",
       "      <td>918</td>\n",
       "      <td>+91 9663487993</td>\n",
       "      <td>Banashankari</td>\n",
       "      <td>Cafe, Casual Dining</td>\n",
       "      <td>Churros, Cannelloni, Minestrone Soup, Hot Choc...</td>\n",
       "      <td>Cafe, Mexican, Italian</td>\n",
       "      <td>800</td>\n",
       "      <td>[('Rated 3.0', \"RATED\\n  Ambience is not that ...</td>\n",
       "      <td>[]</td>\n",
       "      <td>Buffet</td>\n",
       "      <td>Banashankari</td>\n",
       "    </tr>\n",
       "  </tbody>\n",
       "</table>\n",
       "</div>"
      ],
      "text/plain": [
       "                                                 url  \\\n",
       "0  https://www.zomato.com/bangalore/jalsa-banasha...   \n",
       "1  https://www.zomato.com/bangalore/spice-elephan...   \n",
       "2  https://www.zomato.com/SanchurroBangalore?cont...   \n",
       "\n",
       "                                             address             name  \\\n",
       "0  942, 21st Main Road, 2nd Stage, Banashankari, ...            Jalsa   \n",
       "1  2nd Floor, 80 Feet Road, Near Big Bazaar, 6th ...   Spice Elephant   \n",
       "2  1112, Next to KIMS Medical College, 17th Cross...  San Churro Cafe   \n",
       "\n",
       "  online_order book_table   rate  votes                           phone  \\\n",
       "0          Yes        Yes  4.1/5    775  080 42297555\\r\\n+91 9743772233   \n",
       "1          Yes         No  4.1/5    787                    080 41714161   \n",
       "2          Yes         No  3.8/5    918                  +91 9663487993   \n",
       "\n",
       "       location            rest_type  \\\n",
       "0  Banashankari        Casual Dining   \n",
       "1  Banashankari        Casual Dining   \n",
       "2  Banashankari  Cafe, Casual Dining   \n",
       "\n",
       "                                          dish_liked  \\\n",
       "0  Pasta, Lunch Buffet, Masala Papad, Paneer Laja...   \n",
       "1  Momos, Lunch Buffet, Chocolate Nirvana, Thai G...   \n",
       "2  Churros, Cannelloni, Minestrone Soup, Hot Choc...   \n",
       "\n",
       "                         cuisines approx_cost(for two people)  \\\n",
       "0  North Indian, Mughlai, Chinese                         800   \n",
       "1     Chinese, North Indian, Thai                         800   \n",
       "2          Cafe, Mexican, Italian                         800   \n",
       "\n",
       "                                        reviews_list menu_item  \\\n",
       "0  [('Rated 4.0', 'RATED\\n  A beautiful place to ...        []   \n",
       "1  [('Rated 4.0', 'RATED\\n  Had been here for din...        []   \n",
       "2  [('Rated 3.0', \"RATED\\n  Ambience is not that ...        []   \n",
       "\n",
       "  listed_in(type) listed_in(city)  \n",
       "0          Buffet    Banashankari  \n",
       "1          Buffet    Banashankari  \n",
       "2          Buffet    Banashankari  "
      ]
     },
     "execution_count": 6,
     "metadata": {},
     "output_type": "execute_result"
    }
   ],
   "source": [
    "df.head(3)"
   ]
  },
  {
   "cell_type": "markdown",
   "metadata": {},
   "source": [
    "#### Observation: Even though attribute menu_item has no null entries but it has has empty lists entries which are basically Null."
   ]
  },
  {
   "cell_type": "markdown",
   "metadata": {},
   "source": [
    "## Individual Attribute Exploration and Basic Pre-processing"
   ]
  },
  {
   "cell_type": "markdown",
   "metadata": {},
   "source": [
    "### URL"
   ]
  },
  {
   "cell_type": "code",
   "execution_count": 7,
   "metadata": {},
   "outputs": [
    {
     "name": "stdout",
     "output_type": "stream",
     "text": [
      "51717 URLs in data: ['https://www.zomato.com/bangalore/jalsa-banashankari?context=eyJzZSI6eyJlIjpbNTg2OTQsIjE4Mzc1NDc0IiwiNTkwOTAiLCIxODM4Mjk0NCIsIjE4MjI0Njc2IiwiNTkyODkiLCIxODM3MzM4NiJdLCJ0IjoiUmVzdGF1cmFudHMgaW4gQmFuYXNoYW5rYXJpIHNlcnZpbmcgQnVmZmV0In19'\n",
      " 'https://www.zomato.com/bangalore/spice-elephant-banashankari?context=eyJzZSI6eyJlIjpbIjU4Njk0IiwxODM3NTQ3NCwiNTkwOTAiLCIxODM4Mjk0NCIsIjE4MjI0Njc2IiwiNTkyODkiLCIxODM3MzM4NiJdLCJ0IjoiUmVzdGF1cmFudHMgaW4gQmFuYXNoYW5rYXJpIHNlcnZpbmcgQnVmZmV0In19'\n",
      " 'https://www.zomato.com/SanchurroBangalore?context=eyJzZSI6eyJlIjpbIjU4Njk0IiwiMTgzNzU0NzQiLDU5MDkwLCIxODM4Mjk0NCIsIjE4MjI0Njc2IiwiNTkyODkiLCIxODM3MzM4NiJdLCJ0IjoiUmVzdGF1cmFudHMgaW4gQmFuYXNoYW5rYXJpIHNlcnZpbmcgQnVmZmV0In19'\n",
      " ...\n",
      " 'https://www.zomato.com/bangalore/plunge-sheraton-grand-bengaluru-whitefield-hotel-convention-centre-whitefield-bangalore?context=eyJzZSI6eyJlIjpbIjE4NjAyNDc4IiwiMTgyOTAwNTIiLCI1ODM1NCIsIjE4NzQxMTI5IiwxODY2MTA0MCwiMTg2NjEwODQiLCIxODY5MDgzNyJdLCJ0IjoiUHVicyAmYW1wOyBCYXJzIGluIFdoaXRlZmllbGQifX0='\n",
      " 'https://www.zomato.com/bangalore/chime-sheraton-grand-bengaluru-whitefield-hotel-convention-centre-itpl-main-road-whitefield-bangalore?context=eyJzZSI6eyJlIjpbIjE4MjkwMDUyIiwiNTgzNTQiLCIxODc0MTEyOSIsIjE4NjYxMDQwIiwxODY2MTA4NCwiMTg2OTA4MzciXSwidCI6IlB1YnMgJmFtcDsgQmFycyBpbiBXaGl0ZWZpZWxkIn19'\n",
      " 'https://www.zomato.com/bangalore/the-nest-the-den-bengaluru-itpl-main-road-whitefield-bangalore?context=eyJzZSI6eyJlIjpbIjU4MzU0IiwiMTg3NDExMjkiLCIxODY2MTA0MCIsIjE4NjYxMDg0IiwxODY5MDgzN10sInQiOiJQdWJzICZhbXA7IEJhcnMgaW4gV2hpdGVmaWVsZCJ9fQ==']\n"
     ]
    }
   ],
   "source": [
    "print(df[\"url\"].nunique(), \"URLs in data:\", df[\"url\"].unique())"
   ]
  },
  {
   "cell_type": "code",
   "execution_count": 8,
   "metadata": {},
   "outputs": [],
   "source": [
    "df.drop(\"url\", axis=1, inplace=True)"
   ]
  },
  {
   "cell_type": "markdown",
   "metadata": {},
   "source": [
    "#### Observation: The URL attribute has all unique entries and does not carry and patterns so it can be dropped from the dataframe"
   ]
  },
  {
   "cell_type": "markdown",
   "metadata": {},
   "source": [
    "### Address"
   ]
  },
  {
   "cell_type": "code",
   "execution_count": 9,
   "metadata": {},
   "outputs": [
    {
     "name": "stdout",
     "output_type": "stream",
     "text": [
      "11495 addresses in data: ['942, 21st Main Road, 2nd Stage, Banashankari, Bangalore'\n",
      " '2nd Floor, 80 Feet Road, Near Big Bazaar, 6th Block, Kathriguppe, 3rd Stage, Banashankari, Bangalore'\n",
      " '1112, Next to KIMS Medical College, 17th Cross, 2nd Stage, Banashankari, Bangalore'\n",
      " ...\n",
      " 'Cessna Business Park, Sarjapur Ã\\x83Â\\x83Ã\\x82Â\\x83Ã\\x83Â\\x82Ã\\x82Â\\x83Ã\\x83Â\\x83Ã\\x82Â\\x82Ã\\x83Â\\x82Ã\\x82Â\\x82Ã\\x83Â\\x83Ã\\x82Â\\x83Ã\\x83Â\\x82Ã\\x82Â\\x82Ã\\x83Â\\x83Ã\\x82Â\\x82Ã\\x83Â\\x82Ã\\x82Â\\x96 Marathahalli Outer Ring Road, Kadubeesanahalli, Bellandur Post, Bengaluru, Karnataka'\n",
      " '44, Kodigehalli to Hoodi Main Road, Mahadevapura Post, KR Puram, Bangalore'\n",
      " '139/C1, Next To GR Tech Park, Pattandur Agrahara, ITPL, Main Road, Whitefield, Bangalore']\n"
     ]
    }
   ],
   "source": [
    "print(df[\"address\"].nunique(), \"addresses in data:\", df[\"address\"].unique())"
   ]
  },
  {
   "cell_type": "code",
   "execution_count": 10,
   "metadata": {},
   "outputs": [],
   "source": [
    "df.drop(\"address\", axis=1, inplace=True)"
   ]
  },
  {
   "cell_type": "markdown",
   "metadata": {},
   "source": [
    "#### Observations\n",
    " - We have only 11495 unique addresses in the data.\n",
    " - It indicates that certain restaurants with different URLs on Zomato function from the same address.\n",
    " - Also, since we have region information in the **listed_in(city)** attribute, we will drop the address column"
   ]
  },
  {
   "cell_type": "markdown",
   "metadata": {},
   "source": [
    "### Name"
   ]
  },
  {
   "cell_type": "code",
   "execution_count": 11,
   "metadata": {},
   "outputs": [
    {
     "name": "stdout",
     "output_type": "stream",
     "text": [
      "8792 names in data: ['Jalsa' 'Spice Elephant' 'San Churro Cafe' ... 'Nawabs Empire'\n",
      " 'SeeYa Restaurant'\n",
      " 'Plunge - Sheraton Grand Bengaluru Whitefield Hotel &...']\n"
     ]
    }
   ],
   "source": [
    "print(df[\"name\"].nunique(), \"names in data:\", df[\"name\"].unique())"
   ]
  },
  {
   "cell_type": "markdown",
   "metadata": {},
   "source": [
    "#### Observations:\n",
    " - We have data for 8792 restaurant, this would include restaurant chains."
   ]
  },
  {
   "cell_type": "code",
   "execution_count": 12,
   "metadata": {},
   "outputs": [],
   "source": [
    "restaurant_chains = df[\"name\"].value_counts()"
   ]
  },
  {
   "cell_type": "code",
   "execution_count": 13,
   "metadata": {},
   "outputs": [
    {
     "data": {
      "text/plain": [
       "Cafe Coffee Day                96\n",
       "Onesta                         85\n",
       "Just Bake                      73\n",
       "Empire Restaurant              71\n",
       "Five Star Chicken              70\n",
       "                               ..\n",
       "Mouthful                        1\n",
       "Hungry Folks Snacks Drinks      1\n",
       "Ayesha Hotel                    1\n",
       "Shahi Biryani                   1\n",
       "The Shake Factory Originals     1\n",
       "Name: name, Length: 8792, dtype: int64"
      ]
     },
     "execution_count": 13,
     "metadata": {},
     "output_type": "execute_result"
    }
   ],
   "source": [
    "restaurant_chains"
   ]
  },
  {
   "cell_type": "code",
   "execution_count": 13,
   "metadata": {},
   "outputs": [
    {
     "data": {
      "image/png": "[encoded data removed]",
      "text/plain": [
       "<Figure size 432x288 with 1 Axes>"
      ]
     },
     "metadata": {
      "needs_background": "light"
     },
     "output_type": "display_data"
    }
   ],
   "source": [
    "ax = sns.barplot(x = restaurant_chains[:10], y= restaurant_chains[:10].index, palette=\"Set3\")"
   ]
  },
  {
   "cell_type": "markdown",
   "metadata": {},
   "source": [
    "### The figure above shows the top 10 restaurant chains with maximum outlets. CCD dominates with close to 100 chains "
   ]
  },
  {
   "cell_type": "markdown",
   "metadata": {},
   "source": [
    "#### The attribute name also does not carry much information right now except allowing groupBy option, so we will drop it"
   ]
  },
  {
   "cell_type": "code",
   "execution_count": 14,
   "metadata": {},
   "outputs": [],
   "source": [
    "df.drop(\"name\", axis=1, inplace=True)"
   ]
  },
  {
   "cell_type": "markdown",
   "metadata": {},
   "source": [
    "## Online order"
   ]
  },
  {
   "cell_type": "code",
   "execution_count": 15,
   "metadata": {},
   "outputs": [
    {
     "name": "stdout",
     "output_type": "stream",
     "text": [
      "2 possibilities for Online ordering in data: ['Yes' 'No']\n"
     ]
    }
   ],
   "source": [
    "print(df[\"online_order\"].nunique(), \"possibilities for Online ordering in data:\", df[\"online_order\"].unique())"
   ]
  },
  {
   "cell_type": "code",
   "execution_count": 16,
   "metadata": {},
   "outputs": [
    {
     "data": {
      "text/plain": [
       "<matplotlib.axes._subplots.AxesSubplot at 0x11cfc0208>"
      ]
     },
     "execution_count": 16,
     "metadata": {},
     "output_type": "execute_result"
    },
    {
     "data": {
      "image/png": "[encoded data removed]",
      "text/plain": [
       "<Figure size 432x288 with 1 Axes>"
      ]
     },
     "metadata": {
      "needs_background": "light"
     },
     "output_type": "display_data"
    }
   ],
   "source": [
    "sns.countplot(df['online_order'])"
   ]
  },
  {
   "cell_type": "markdown",
   "metadata": {},
   "source": [
    "## Observation : 30000+ restaurant accept online orders."
   ]
  },
  {
   "cell_type": "markdown",
   "metadata": {},
   "source": [
    "#### We will replace Yes with 1 and No with 0"
   ]
  },
  {
   "cell_type": "code",
   "execution_count": 17,
   "metadata": {},
   "outputs": [],
   "source": [
    "df[\"online_order\"] = df[\"online_order\"].map({\"Yes\": 1, \"No\":0})"
   ]
  },
  {
   "cell_type": "markdown",
   "metadata": {},
   "source": [
    "## Table Booking"
   ]
  },
  {
   "cell_type": "code",
   "execution_count": 18,
   "metadata": {},
   "outputs": [
    {
     "name": "stdout",
     "output_type": "stream",
     "text": [
      "2 possibilities for Booking Table Online in data ['Yes' 'No']\n"
     ]
    }
   ],
   "source": [
    "print(df[\"book_table\"].nunique(), \"possibilities for Booking Table Online in data\", df[\"book_table\"].unique())"
   ]
  },
  {
   "cell_type": "code",
   "execution_count": 19,
   "metadata": {},
   "outputs": [
    {
     "data": {
      "text/plain": [
       "<matplotlib.axes._subplots.AxesSubplot at 0x12b4f5d68>"
      ]
     },
     "execution_count": 19,
     "metadata": {},
     "output_type": "execute_result"
    },
    {
     "data": {
      "image/png": "[encoded data removed]",
      "text/plain": [
       "<Figure size 432x288 with 1 Axes>"
      ]
     },
     "metadata": {
      "needs_background": "light"
     },
     "output_type": "display_data"
    }
   ],
   "source": [
    "sns.countplot(df['book_table'])"
   ]
  },
  {
   "cell_type": "markdown",
   "metadata": {},
   "source": [
    "## The figure above shows that more than 80% of the listed restaurants do not allow the provision of online table booking"
   ]
  },
  {
   "cell_type": "markdown",
   "metadata": {},
   "source": [
    "#### We will replace Yes with 1 and No with 0"
   ]
  },
  {
   "cell_type": "code",
   "execution_count": 20,
   "metadata": {},
   "outputs": [],
   "source": [
    "df[\"book_table\"] = df[\"book_table\"].map({\"Yes\": 1, \"No\":0})"
   ]
  },
  {
   "cell_type": "markdown",
   "metadata": {},
   "source": [
    "## Rating"
   ]
  },
  {
   "cell_type": "code",
   "execution_count": 21,
   "metadata": {},
   "outputs": [
    {
     "name": "stdout",
     "output_type": "stream",
     "text": [
      "64 unique ratings ['4.1/5' '3.8/5' '3.7/5' '3.6/5' '4.6/5' '4.0/5' '4.2/5' '3.9/5' '3.1/5'\n",
      " '3.0/5' '3.2/5' '3.3/5' '2.8/5' '4.4/5' '4.3/5' 'NEW' '2.9/5' '3.5/5' nan\n",
      " '2.6/5' '3.8 /5' '3.4/5' '4.5/5' '2.5/5' '2.7/5' '4.7/5' '2.4/5' '2.2/5'\n",
      " '2.3/5' '3.4 /5' '-' '3.6 /5' '4.8/5' '3.9 /5' '4.2 /5' '4.0 /5' '4.1 /5'\n",
      " '3.7 /5' '3.1 /5' '2.9 /5' '3.3 /5' '2.8 /5' '3.5 /5' '2.7 /5' '2.5 /5'\n",
      " '3.2 /5' '2.6 /5' '4.5 /5' '4.3 /5' '4.4 /5' '4.9/5' '2.1/5' '2.0/5'\n",
      " '1.8/5' '4.6 /5' '4.9 /5' '3.0 /5' '4.8 /5' '2.3 /5' '4.7 /5' '2.4 /5'\n",
      " '2.1 /5' '2.2 /5' '2.0 /5' '1.8 /5']\n"
     ]
    }
   ],
   "source": [
    "print(df[\"rate\"].nunique(), \"unique ratings\", df[\"rate\"].unique())"
   ]
  },
  {
   "cell_type": "code",
   "execution_count": 22,
   "metadata": {},
   "outputs": [
    {
     "name": "stdout",
     "output_type": "stream",
     "text": [
      "Entries with hyphen -  69\n",
      "Entries with NEW -  2208\n",
      "Entries with nan -  7775\n"
     ]
    }
   ],
   "source": [
    "print(\"Entries with hyphen - \", df.rate[df.rate == '-'].count())\n",
    "print(\"Entries with NEW - \", df.rate[df.rate == 'NEW'].count())\n",
    "print(\"Entries with nan - \", df.rate.isnull().sum())"
   ]
  },
  {
   "cell_type": "markdown",
   "metadata": {},
   "source": [
    "#### Replacing '-' and 'NEW' with NaN"
   ]
  },
  {
   "cell_type": "code",
   "execution_count": 23,
   "metadata": {},
   "outputs": [],
   "source": [
    "df[\"rate\"] = df.rate.replace('-', np.nan)\n",
    "df[\"rate\"] = df.rate.replace('NEW', np.nan)"
   ]
  },
  {
   "cell_type": "markdown",
   "metadata": {},
   "source": [
    "#### Making ratings numeric and understandable"
   ]
  },
  {
   "cell_type": "code",
   "execution_count": 24,
   "metadata": {},
   "outputs": [
    {
     "name": "stdout",
     "output_type": "stream",
     "text": [
      "3.7004488179527177\n"
     ]
    }
   ],
   "source": [
    "ratings = df.rate.dropna()\n",
    "ratings = ratings.apply(lambda x : float(x.split('/')[0]))\n",
    "print(ratings.mean())"
   ]
  },
  {
   "cell_type": "code",
   "execution_count": 25,
   "metadata": {},
   "outputs": [
    {
     "data": {
      "text/plain": [
       "<matplotlib.axes._subplots.AxesSubplot at 0x11ce365f8>"
      ]
     },
     "execution_count": 25,
     "metadata": {},
     "output_type": "execute_result"
    },
    {
     "data": {
      "image/png": "[encoded data removed]",
      "text/plain": [
       "<Figure size 432x288 with 1 Axes>"
      ]
     },
     "metadata": {
      "needs_background": "light"
     },
     "output_type": "display_data"
    }
   ],
   "source": [
    "sns.distplot(ratings, bins=30, color='black')"
   ]
  },
  {
   "cell_type": "markdown",
   "metadata": {},
   "source": [
    "### Observations\n",
    "- Most of the restaurants have a rating between 3.5 and 4\n",
    "- The ratings curve seems to be following Nornam Distributions under the specified conditions"
   ]
  },
  {
   "cell_type": "markdown",
   "metadata": {},
   "source": [
    "### Replacing \"New\", \"-\", \"NaN\" with ratings mean"
   ]
  },
  {
   "cell_type": "code",
   "execution_count": 26,
   "metadata": {},
   "outputs": [],
   "source": [
    "df[\"rate\"] = df.rate.replace(np.nan, (str(ratings.mean()) + \"/5\"))"
   ]
  },
  {
   "cell_type": "code",
   "execution_count": 27,
   "metadata": {},
   "outputs": [
    {
     "data": {
      "text/plain": [
       "0                       4.1/5\n",
       "1                       4.1/5\n",
       "2                       3.8/5\n",
       "3                       3.7/5\n",
       "4                       3.8/5\n",
       "                 ...         \n",
       "51712                  3.6 /5\n",
       "51713    3.7004488179527177/5\n",
       "51714    3.7004488179527177/5\n",
       "51715                  4.3 /5\n",
       "51716                  3.4 /5\n",
       "Name: rate, Length: 51717, dtype: object"
      ]
     },
     "execution_count": 27,
     "metadata": {},
     "output_type": "execute_result"
    }
   ],
   "source": [
    "df[\"rate\"]"
   ]
  },
  {
   "cell_type": "markdown",
   "metadata": {},
   "source": [
    "#### Converting rate attribute to numeric after NaN values have been filled"
   ]
  },
  {
   "cell_type": "code",
   "execution_count": 28,
   "metadata": {},
   "outputs": [],
   "source": [
    "df[\"rate\"] = df.rate.apply(lambda x : float(x.split('/')[0]))"
   ]
  },
  {
   "cell_type": "code",
   "execution_count": 29,
   "metadata": {},
   "outputs": [
    {
     "data": {
      "text/plain": [
       "0        4.100000\n",
       "1        4.100000\n",
       "2        3.800000\n",
       "3        3.700000\n",
       "4        3.800000\n",
       "           ...   \n",
       "51712    3.600000\n",
       "51713    3.700449\n",
       "51714    3.700449\n",
       "51715    4.300000\n",
       "51716    3.400000\n",
       "Name: rate, Length: 51717, dtype: float64"
      ]
     },
     "execution_count": 29,
     "metadata": {},
     "output_type": "execute_result"
    }
   ],
   "source": [
    "df[\"rate\"]"
   ]
  },
  {
   "cell_type": "markdown",
   "metadata": {},
   "source": [
    "## Votes"
   ]
  },
  {
   "cell_type": "code",
   "execution_count": 30,
   "metadata": {},
   "outputs": [
    {
     "name": "stdout",
     "output_type": "stream",
     "text": [
      "2328 unique votes [ 775  787  918 ... 4957 2382  843]\n"
     ]
    }
   ],
   "source": [
    "print(df[\"votes\"].nunique(), \"unique votes\", df[\"votes\"].unique())"
   ]
  },
  {
   "cell_type": "markdown",
   "metadata": {},
   "source": [
    "## Phone"
   ]
  },
  {
   "cell_type": "code",
   "execution_count": 31,
   "metadata": {},
   "outputs": [
    {
     "name": "stdout",
     "output_type": "stream",
     "text": [
      "14926 unique phone numbers ['080 42297555\\r\\n+91 9743772233' '080 41714161' '+91 9663487993' ...\n",
      " '+91 9663517066\\n+91 9686861135' '+91 9164562939' '080 65951222']\n"
     ]
    }
   ],
   "source": [
    "print(df[\"phone\"].nunique(), \"unique phone numbers\", df[\"phone\"].unique())"
   ]
  },
  {
   "cell_type": "markdown",
   "metadata": {},
   "source": [
    "## Observations\n",
    "- Since only 14926 entries are present this indicates that multiple restaurants have registered with the same phone number.\n",
    "- Also, presently phone number does not add up much information, so we will drop the attribute"
   ]
  },
  {
   "cell_type": "code",
   "execution_count": 32,
   "metadata": {},
   "outputs": [],
   "source": [
    "df.drop(\"phone\", axis = 1, inplace = True)"
   ]
  },
  {
   "cell_type": "markdown",
   "metadata": {},
   "source": [
    "## Location"
   ]
  },
  {
   "cell_type": "code",
   "execution_count": 33,
   "metadata": {},
   "outputs": [
    {
     "name": "stdout",
     "output_type": "stream",
     "text": [
      "93 unique locations ['Banashankari' 'Basavanagudi' 'Mysore Road' 'Jayanagar'\n",
      " 'Kumaraswamy Layout' 'Rajarajeshwari Nagar' 'Vijay Nagar' 'Uttarahalli'\n",
      " 'JP Nagar' 'South Bangalore' 'City Market' 'Nagarbhavi'\n",
      " 'Bannerghatta Road' 'BTM' 'Kanakapura Road' 'Bommanahalli' nan\n",
      " 'CV Raman Nagar' 'Electronic City' 'HSR' 'Marathahalli' 'Sarjapur Road'\n",
      " 'Wilson Garden' 'Shanti Nagar' 'Koramangala 5th Block'\n",
      " 'Koramangala 8th Block' 'Richmond Road' 'Koramangala 7th Block'\n",
      " 'Jalahalli' 'Koramangala 4th Block' 'Bellandur' 'Whitefield'\n",
      " 'East Bangalore' 'Old Airport Road' 'Indiranagar' 'Koramangala 1st Block'\n",
      " 'Frazer Town' 'RT Nagar' 'MG Road' 'Brigade Road' 'Lavelle Road'\n",
      " 'Church Street' 'Ulsoor' 'Residency Road' 'Shivajinagar' 'Infantry Road'\n",
      " 'St. Marks Road' 'Cunningham Road' 'Race Course Road' 'Commercial Street'\n",
      " 'Vasanth Nagar' 'HBR Layout' 'Domlur' 'Ejipura' 'Jeevan Bhima Nagar'\n",
      " 'Old Madras Road' 'Malleshwaram' 'Seshadripuram' 'Kammanahalli'\n",
      " 'Koramangala 6th Block' 'Majestic' 'Langford Town' 'Central Bangalore'\n",
      " 'Sanjay Nagar' 'Brookefield' 'ITPL Main Road, Whitefield'\n",
      " 'Varthur Main Road, Whitefield' 'KR Puram' 'Koramangala 2nd Block'\n",
      " 'Koramangala 3rd Block' 'Koramangala' 'Hosur Road' 'Rajajinagar'\n",
      " 'Banaswadi' 'North Bangalore' 'Nagawara' 'Hennur' 'Kalyan Nagar'\n",
      " 'New BEL Road' 'Jakkur' 'Rammurthy Nagar' 'Thippasandra' 'Kaggadasapura'\n",
      " 'Hebbal' 'Kengeri' 'Sankey Road' 'Sadashiv Nagar' 'Basaveshwara Nagar'\n",
      " 'Yeshwantpur' 'West Bangalore' 'Magadi Road' 'Yelahanka' 'Sahakara Nagar'\n",
      " 'Peenya']\n"
     ]
    }
   ],
   "source": [
    "print(df[\"location\"].nunique(), \"unique locations\", df[\"location\"].unique())"
   ]
  },
  {
   "cell_type": "code",
   "execution_count": 34,
   "metadata": {},
   "outputs": [
    {
     "name": "stdout",
     "output_type": "stream",
     "text": [
      "Entries with nan -  21\n"
     ]
    }
   ],
   "source": [
    "print(\"Entries with nan - \", df.location.isnull().sum())"
   ]
  },
  {
   "cell_type": "code",
   "execution_count": 35,
   "metadata": {},
   "outputs": [],
   "source": [
    "location = df.location.value_counts()"
   ]
  },
  {
   "cell_type": "code",
   "execution_count": 36,
   "metadata": {},
   "outputs": [
    {
     "data": {
      "image/png": "[encoded data removed]",
      "text/plain": [
       "<Figure size 432x288 with 1 Axes>"
      ]
     },
     "metadata": {
      "needs_background": "light"
     },
     "output_type": "display_data"
    }
   ],
   "source": [
    "ax = sns.barplot(x = location[:15], y= location[:15].index, palette=\"Set3\")"
   ]
  },
  {
   "cell_type": "markdown",
   "metadata": {},
   "source": [
    "### Observation\n",
    "BTM dominates in terms of number of restaurants"
   ]
  },
  {
   "cell_type": "markdown",
   "metadata": {},
   "source": [
    "## Restaurant Type"
   ]
  },
  {
   "cell_type": "code",
   "execution_count": 37,
   "metadata": {},
   "outputs": [
    {
     "name": "stdout",
     "output_type": "stream",
     "text": [
      "93 unique restaurant types ['Casual Dining' 'Cafe, Casual Dining' 'Quick Bites' 'Casual Dining, Cafe'\n",
      " 'Cafe' 'Quick Bites, Cafe' 'Cafe, Quick Bites' 'Delivery' 'Mess'\n",
      " 'Dessert Parlor' 'Bakery, Dessert Parlor' 'Pub' 'Bakery'\n",
      " 'Takeaway, Delivery' 'Fine Dining' 'Beverage Shop' 'Sweet Shop' 'Bar'\n",
      " 'Beverage Shop, Quick Bites' 'Confectionery' 'Quick Bites, Beverage Shop'\n",
      " 'Dessert Parlor, Sweet Shop' 'Bakery, Quick Bites'\n",
      " 'Sweet Shop, Quick Bites' 'Kiosk' 'Food Truck'\n",
      " 'Quick Bites, Dessert Parlor' 'Beverage Shop, Dessert Parlor' 'Takeaway'\n",
      " 'Pub, Casual Dining' 'Casual Dining, Bar' 'Dessert Parlor, Beverage Shop'\n",
      " 'Quick Bites, Bakery' 'Dessert Parlor, Quick Bites'\n",
      " 'Microbrewery, Casual Dining' 'Lounge' 'Bar, Casual Dining' 'Food Court'\n",
      " 'Cafe, Bakery' nan 'Dhaba' 'Quick Bites, Sweet Shop' 'Microbrewery'\n",
      " 'Food Court, Quick Bites' 'Pub, Bar' 'Casual Dining, Pub' 'Lounge, Bar'\n",
      " 'Food Court, Dessert Parlor' 'Casual Dining, Sweet Shop'\n",
      " 'Food Court, Casual Dining' 'Casual Dining, Microbrewery'\n",
      " 'Sweet Shop, Dessert Parlor' 'Bakery, Beverage Shop'\n",
      " 'Lounge, Casual Dining' 'Cafe, Food Court' 'Beverage Shop, Cafe'\n",
      " 'Cafe, Dessert Parlor' 'Dessert Parlor, Cafe' 'Dessert Parlor, Bakery'\n",
      " 'Microbrewery, Pub' 'Bakery, Food Court' 'Club' 'Quick Bites, Food Court'\n",
      " 'Bakery, Cafe' 'Bar, Cafe' 'Pub, Cafe' 'Casual Dining, Irani Cafee'\n",
      " 'Fine Dining, Lounge' 'Bar, Quick Bites' 'Bakery, Kiosk'\n",
      " 'Pub, Microbrewery' 'Microbrewery, Lounge' 'Fine Dining, Microbrewery'\n",
      " 'Fine Dining, Bar' 'Mess, Quick Bites' 'Dessert Parlor, Kiosk'\n",
      " 'Bhojanalya' 'Casual Dining, Quick Bites' 'Pop Up' 'Cafe, Bar'\n",
      " 'Casual Dining, Lounge' 'Bakery, Sweet Shop' 'Microbrewery, Bar'\n",
      " 'Cafe, Lounge' 'Bar, Pub' 'Lounge, Cafe' 'Club, Casual Dining'\n",
      " 'Quick Bites, Mess' 'Quick Bites, Meat Shop' 'Quick Bites, Kiosk'\n",
      " 'Lounge, Microbrewery' 'Food Court, Beverage Shop'\n",
      " 'Dessert Parlor, Food Court' 'Bar, Lounge']\n"
     ]
    }
   ],
   "source": [
    "print(df[\"rest_type\"].nunique(), \"unique restaurant types\", df[\"rest_type\"].unique())"
   ]
  },
  {
   "cell_type": "code",
   "execution_count": 38,
   "metadata": {},
   "outputs": [
    {
     "data": {
      "image/png": "[encoded data removed]",
      "text/plain": [
       "<Figure size 432x288 with 1 Axes>"
      ]
     },
     "metadata": {
      "needs_background": "light"
     },
     "output_type": "display_data"
    }
   ],
   "source": [
    "rest_type = df[\"rest_type\"].value_counts()\n",
    "ax = sns.barplot(x = rest_type[:20], y= rest_type[:20].index, palette=\"Set3\")"
   ]
  },
  {
   "cell_type": "markdown",
   "metadata": {},
   "source": [
    "### The plot above shows that Quick Bites and Casual Dining dominate the data"
   ]
  },
  {
   "cell_type": "code",
   "execution_count": 39,
   "metadata": {},
   "outputs": [],
   "source": [
    "df_rest_type = df[df['rest_type'].notnull()]"
   ]
  },
  {
   "cell_type": "markdown",
   "metadata": {},
   "source": [
    "### Some restaurant fall in multiple categories such as 'Cafe, Casual Dining'. Let's try and understand how many unique restaurant types are there."
   ]
  },
  {
   "cell_type": "code",
   "execution_count": 40,
   "metadata": {},
   "outputs": [],
   "source": [
    "rest_type = df_rest_type['rest_type']\n",
    "rest_type_set = set()\n",
    "for entry in rest_type:\n",
    "    val = entry.split(',')\n",
    "    for value in val:\n",
    "        rest_type_set.add(value.strip())"
   ]
  },
  {
   "cell_type": "code",
   "execution_count": 41,
   "metadata": {},
   "outputs": [
    {
     "data": {
      "text/plain": [
       "{'Bakery',\n",
       " 'Bar',\n",
       " 'Beverage Shop',\n",
       " 'Bhojanalya',\n",
       " 'Cafe',\n",
       " 'Casual Dining',\n",
       " 'Club',\n",
       " 'Confectionery',\n",
       " 'Delivery',\n",
       " 'Dessert Parlor',\n",
       " 'Dhaba',\n",
       " 'Fine Dining',\n",
       " 'Food Court',\n",
       " 'Food Truck',\n",
       " 'Irani Cafee',\n",
       " 'Kiosk',\n",
       " 'Lounge',\n",
       " 'Meat Shop',\n",
       " 'Mess',\n",
       " 'Microbrewery',\n",
       " 'Pop Up',\n",
       " 'Pub',\n",
       " 'Quick Bites',\n",
       " 'Sweet Shop',\n",
       " 'Takeaway'}"
      ]
     },
     "execution_count": 41,
     "metadata": {},
     "output_type": "execute_result"
    }
   ],
   "source": [
    "rest_type_set"
   ]
  },
  {
   "cell_type": "code",
   "execution_count": 42,
   "metadata": {},
   "outputs": [
    {
     "data": {
      "text/plain": [
       "25"
      ]
     },
     "execution_count": 42,
     "metadata": {},
     "output_type": "execute_result"
    }
   ],
   "source": [
    "len(rest_type_set)"
   ]
  },
  {
   "cell_type": "markdown",
   "metadata": {},
   "source": [
    "### Observation\n",
    "There are 25 unique categories such that a restaurant can fall in one or more of these categories"
   ]
  },
  {
   "cell_type": "markdown",
   "metadata": {},
   "source": [
    "### Replacing NaN with most frequent value in the restaurant type column"
   ]
  },
  {
   "cell_type": "code",
   "execution_count": 43,
   "metadata": {},
   "outputs": [
    {
     "name": "stdout",
     "output_type": "stream",
     "text": [
      "Quick Bites\n"
     ]
    }
   ],
   "source": [
    "most_frequent_restaurant_type = df['rest_type'].mode().iloc[0]\n",
    "print(most_frequent_restaurant_type)"
   ]
  },
  {
   "cell_type": "code",
   "execution_count": 44,
   "metadata": {},
   "outputs": [],
   "source": [
    "df['rest_type'] = df['rest_type'].fillna(most_frequent_restaurant_type)"
   ]
  },
  {
   "cell_type": "markdown",
   "metadata": {},
   "source": [
    "## Dishes Liked"
   ]
  },
  {
   "cell_type": "code",
   "execution_count": 45,
   "metadata": {},
   "outputs": [
    {
     "name": "stdout",
     "output_type": "stream",
     "text": [
      "5271 unique dish_liked ['Pasta, Lunch Buffet, Masala Papad, Paneer Lajawab, Tomato Shorba, Dum Biryani, Sweet Corn Soup'\n",
      " 'Momos, Lunch Buffet, Chocolate Nirvana, Thai Green Curry, Paneer Tikka, Dum Biryani, Chicken Biryani'\n",
      " 'Churros, Cannelloni, Minestrone Soup, Hot Chocolate, Pink Sauce Pasta, Salsa, Veg Supreme Pizza'\n",
      " ...\n",
      " 'Noodles, Chicken Noodle, Momos, American Chopsuey, Salad, Manchow Soup, Manchurian'\n",
      " 'Chicken Quesadilla, Naan, Breakfast Buffet, Cheesecake, Cocktails, Lunch Buffet, Biryani'\n",
      " 'Biryani, Andhra Meal']\n"
     ]
    }
   ],
   "source": [
    "print(df[\"dish_liked\"].nunique(), \"unique dish_liked\", df[\"dish_liked\"].unique())"
   ]
  },
  {
   "cell_type": "code",
   "execution_count": 46,
   "metadata": {},
   "outputs": [],
   "source": [
    "df_dish_liked = df[df['dish_liked'].notnull()]"
   ]
  },
  {
   "cell_type": "markdown",
   "metadata": {},
   "source": [
    "### Same dish can be liked at multiple restaurants. Let's try and understand how many unique dishes are being liked"
   ]
  },
  {
   "cell_type": "code",
   "execution_count": 47,
   "metadata": {},
   "outputs": [],
   "source": [
    "unique_dishes = set()\n",
    "for entry in df_dish_liked[\"dish_liked\"]:\n",
    "    s = entry.split()\n",
    "    for item in s:\n",
    "        unique_dishes.add(item)"
   ]
  },
  {
   "cell_type": "code",
   "execution_count": 48,
   "metadata": {},
   "outputs": [
    {
     "data": {
      "text/plain": [
       "1883"
      ]
     },
     "execution_count": 48,
     "metadata": {},
     "output_type": "execute_result"
    }
   ],
   "source": [
    "len(unique_dishes)"
   ]
  },
  {
   "cell_type": "markdown",
   "metadata": {},
   "source": [
    "#### Dishes liked is not conveying much information and happens to be a highly sparse matrix, so we will drop the column"
   ]
  },
  {
   "cell_type": "code",
   "execution_count": 49,
   "metadata": {},
   "outputs": [],
   "source": [
    "df.drop(\"dish_liked\", axis=1, inplace=True)"
   ]
  },
  {
   "cell_type": "markdown",
   "metadata": {},
   "source": [
    "## Cuisines"
   ]
  },
  {
   "cell_type": "code",
   "execution_count": 50,
   "metadata": {},
   "outputs": [
    {
     "name": "stdout",
     "output_type": "stream",
     "text": [
      "2723 cuisines ['North Indian, Mughlai, Chinese' 'Chinese, North Indian, Thai'\n",
      " 'Cafe, Mexican, Italian' ... 'North Indian, Street Food, Biryani'\n",
      " 'Chinese, Mughlai' 'North Indian, Chinese, Arabian, Momos']\n"
     ]
    }
   ],
   "source": [
    "print(df[\"cuisines\"].nunique(), \"cuisines\", df[\"cuisines\"].unique())"
   ]
  },
  {
   "cell_type": "code",
   "execution_count": 51,
   "metadata": {},
   "outputs": [
    {
     "data": {
      "image/png": "[encoded data removed]",
      "text/plain": [
       "<Figure size 432x288 with 1 Axes>"
      ]
     },
     "metadata": {
      "needs_background": "light"
     },
     "output_type": "display_data"
    }
   ],
   "source": [
    "cuisines = df[\"cuisines\"].value_counts()\n",
    "ax = sns.barplot(x = cuisines[:20], y= cuisines[:20].index, palette=\"Set3\")"
   ]
  },
  {
   "cell_type": "code",
   "execution_count": 52,
   "metadata": {},
   "outputs": [],
   "source": [
    "df_cuisines = df[df['cuisines'].notnull()]"
   ]
  },
  {
   "cell_type": "code",
   "execution_count": 53,
   "metadata": {},
   "outputs": [],
   "source": [
    "cuisines = df_cuisines['cuisines']"
   ]
  },
  {
   "cell_type": "code",
   "execution_count": 54,
   "metadata": {},
   "outputs": [],
   "source": [
    "cuisines_set = set()\n",
    "for entry in cuisines:\n",
    "    val = entry.split(',')\n",
    "    for value in val:\n",
    "        cuisines_set.add(value.strip())"
   ]
  },
  {
   "cell_type": "code",
   "execution_count": 55,
   "metadata": {},
   "outputs": [
    {
     "data": {
      "text/plain": [
       "{'Afghan',\n",
       " 'Afghani',\n",
       " 'African',\n",
       " 'American',\n",
       " 'Andhra',\n",
       " 'Arabian',\n",
       " 'Asian',\n",
       " 'Assamese',\n",
       " 'Australian',\n",
       " 'Awadhi',\n",
       " 'BBQ',\n",
       " 'Bakery',\n",
       " 'Bar Food',\n",
       " 'Belgian',\n",
       " 'Bengali',\n",
       " 'Beverages',\n",
       " 'Bihari',\n",
       " 'Biryani',\n",
       " 'Bohri',\n",
       " 'British',\n",
       " 'Bubble Tea',\n",
       " 'Burger',\n",
       " 'Burmese',\n",
       " 'Cafe',\n",
       " 'Cantonese',\n",
       " 'Charcoal Chicken',\n",
       " 'Chettinad',\n",
       " 'Chinese',\n",
       " 'Coffee',\n",
       " 'Continental',\n",
       " 'Desserts',\n",
       " 'Drinks Only',\n",
       " 'European',\n",
       " 'Fast Food',\n",
       " 'Finger Food',\n",
       " 'French',\n",
       " 'German',\n",
       " 'Goan',\n",
       " 'Greek',\n",
       " 'Grill',\n",
       " 'Gujarati',\n",
       " 'Healthy Food',\n",
       " 'Hot dogs',\n",
       " 'Hyderabadi',\n",
       " 'Ice Cream',\n",
       " 'Indian',\n",
       " 'Indonesian',\n",
       " 'Iranian',\n",
       " 'Italian',\n",
       " 'Japanese',\n",
       " 'Jewish',\n",
       " 'Juices',\n",
       " 'Kashmiri',\n",
       " 'Kebab',\n",
       " 'Kerala',\n",
       " 'Konkan',\n",
       " 'Korean',\n",
       " 'Lebanese',\n",
       " 'Lucknowi',\n",
       " 'Maharashtrian',\n",
       " 'Malaysian',\n",
       " 'Malwani',\n",
       " 'Mangalorean',\n",
       " 'Mediterranean',\n",
       " 'Mexican',\n",
       " 'Middle Eastern',\n",
       " 'Mithai',\n",
       " 'Modern Indian',\n",
       " 'Momos',\n",
       " 'Mongolian',\n",
       " 'Mughlai',\n",
       " 'Naga',\n",
       " 'Nepalese',\n",
       " 'North Eastern',\n",
       " 'North Indian',\n",
       " 'Oriya',\n",
       " 'Paan',\n",
       " 'Pan Asian',\n",
       " 'Parsi',\n",
       " 'Pizza',\n",
       " 'Portuguese',\n",
       " 'Rajasthani',\n",
       " 'Raw Meats',\n",
       " 'Roast Chicken',\n",
       " 'Rolls',\n",
       " 'Russian',\n",
       " 'Salad',\n",
       " 'Sandwich',\n",
       " 'Seafood',\n",
       " 'Sindhi',\n",
       " 'Singaporean',\n",
       " 'South American',\n",
       " 'South Indian',\n",
       " 'Spanish',\n",
       " 'Sri Lankan',\n",
       " 'Steak',\n",
       " 'Street Food',\n",
       " 'Sushi',\n",
       " 'Tamil',\n",
       " 'Tea',\n",
       " 'Tex-Mex',\n",
       " 'Thai',\n",
       " 'Tibetan',\n",
       " 'Turkish',\n",
       " 'Vegan',\n",
       " 'Vietnamese',\n",
       " 'Wraps'}"
      ]
     },
     "execution_count": 55,
     "metadata": {},
     "output_type": "execute_result"
    }
   ],
   "source": [
    "cuisines_set"
   ]
  },
  {
   "cell_type": "code",
   "execution_count": 56,
   "metadata": {},
   "outputs": [
    {
     "data": {
      "text/plain": [
       "107"
      ]
     },
     "execution_count": 56,
     "metadata": {},
     "output_type": "execute_result"
    }
   ],
   "source": [
    "len(cuisines_set)"
   ]
  },
  {
   "cell_type": "markdown",
   "metadata": {},
   "source": [
    "### Observation\n",
    "\n",
    "- There are 107 different cuisines altogether such that a restaurant can serve 1 or more of these."
   ]
  },
  {
   "cell_type": "markdown",
   "metadata": {},
   "source": [
    "### Replacing NaN with most frequent value in the cuisines column"
   ]
  },
  {
   "cell_type": "code",
   "execution_count": 57,
   "metadata": {},
   "outputs": [
    {
     "name": "stdout",
     "output_type": "stream",
     "text": [
      "North Indian\n"
     ]
    }
   ],
   "source": [
    "most_frequent_cuisine = df['cuisines'].mode().iloc[0]\n",
    "print(most_frequent_cuisine)"
   ]
  },
  {
   "cell_type": "code",
   "execution_count": 58,
   "metadata": {},
   "outputs": [],
   "source": [
    "df['cuisines'] = df['cuisines'].fillna(most_frequent_cuisine)"
   ]
  },
  {
   "cell_type": "markdown",
   "metadata": {},
   "source": [
    "## Approx Cost"
   ]
  },
  {
   "cell_type": "code",
   "execution_count": 59,
   "metadata": {},
   "outputs": [
    {
     "name": "stdout",
     "output_type": "stream",
     "text": [
      "70 cuisines ['800' '300' '600' '700' '550' '500' '450' '650' '400' '900' '200' '750'\n",
      " '150' '850' '100' '1,200' '350' '250' '950' '1,000' '1,500' '1,300' '199'\n",
      " '80' '1,100' '160' '1,600' '230' '130' '50' '190' '1,700' nan '1,400'\n",
      " '180' '1,350' '2,200' '2,000' '1,800' '1,900' '330' '2,500' '2,100'\n",
      " '3,000' '2,800' '3,400' '40' '1,250' '3,500' '4,000' '2,400' '2,600'\n",
      " '120' '1,450' '469' '70' '3,200' '60' '560' '240' '360' '6,000' '1,050'\n",
      " '2,300' '4,100' '5,000' '3,700' '1,650' '2,700' '4,500' '140']\n"
     ]
    }
   ],
   "source": [
    "print(df[\"approx_cost(for two people)\"].nunique(), \"cuisines\", df[\"approx_cost(for two people)\"].unique())"
   ]
  },
  {
   "cell_type": "code",
   "execution_count": 60,
   "metadata": {},
   "outputs": [
    {
     "data": {
      "image/png": "[encoded data removed]",
      "text/plain": [
       "<Figure size 432x288 with 1 Axes>"
      ]
     },
     "metadata": {
      "needs_background": "light"
     },
     "output_type": "display_data"
    }
   ],
   "source": [
    "approx_cost = df[\"approx_cost(for two people)\"].value_counts()\n",
    "ax = sns.barplot(x = approx_cost[:20], y= approx_cost[:20].index, palette=\"Set3\")"
   ]
  },
  {
   "cell_type": "code",
   "execution_count": 61,
   "metadata": {},
   "outputs": [
    {
     "name": "stdout",
     "output_type": "stream",
     "text": [
      "555.4315664479959\n"
     ]
    }
   ],
   "source": [
    "approx_cost = df['approx_cost(for two people)'].dropna().str.replace(',', '').astype(float)\n",
    "print(approx_cost.mean())"
   ]
  },
  {
   "cell_type": "code",
   "execution_count": 62,
   "metadata": {},
   "outputs": [],
   "source": [
    "df['approx_cost(for two people)'] = df['approx_cost(for two people)'].str.replace(',', '').astype(float)"
   ]
  },
  {
   "cell_type": "code",
   "execution_count": 63,
   "metadata": {},
   "outputs": [],
   "source": [
    "df['approx_cost(for two people)'] = df['approx_cost(for two people)'].replace(np.nan, str(approx_cost.mean()))"
   ]
  },
  {
   "cell_type": "code",
   "execution_count": 64,
   "metadata": {},
   "outputs": [
    {
     "data": {
      "text/plain": [
       "0         800\n",
       "1         800\n",
       "2         800\n",
       "3         300\n",
       "4         600\n",
       "         ... \n",
       "51712    1500\n",
       "51713     600\n",
       "51714    2000\n",
       "51715    2500\n",
       "51716    1500\n",
       "Name: approx_cost(for two people), Length: 51717, dtype: object"
      ]
     },
     "execution_count": 64,
     "metadata": {},
     "output_type": "execute_result"
    }
   ],
   "source": [
    "df['approx_cost(for two people)']"
   ]
  },
  {
   "cell_type": "markdown",
   "metadata": {},
   "source": [
    "## Reviews"
   ]
  },
  {
   "cell_type": "markdown",
   "metadata": {},
   "source": [
    "#### Reviews carry a ot of textual information for us and this can be a separate task, so for this analysis we will drop the column."
   ]
  },
  {
   "cell_type": "code",
   "execution_count": 65,
   "metadata": {},
   "outputs": [],
   "source": [
    "df.drop(\"reviews_list\", axis=1, inplace=True)"
   ]
  },
  {
   "cell_type": "markdown",
   "metadata": {},
   "source": [
    "## Menu Items"
   ]
  },
  {
   "cell_type": "code",
   "execution_count": 66,
   "metadata": {},
   "outputs": [
    {
     "name": "stdout",
     "output_type": "stream",
     "text": [
      "9098 menu items ['[]'\n",
      " \"['Chocolate Fantasy (Pack Of 5)', 'Pan Cake (Pack Of 6)', 'Gulab Jamun (Pack Of 10)', 'Gulkand Shot (Pack Of 5)', 'Chocolate Decadence (Pack of 2)', 'CheeseCake (Pack Of 2)', 'Red Velvet Slice Cake (Pack of 2)', 'Red Velvet Slice Cake & Cheese Cake (Pack of 2)', 'Red Velvet Slice Cake & Chocolate Decadence Cake (Pack of 2)', 'Hazelnut Brownie (Pack of 2)', 'Moments', 'Red Velvet Cake With Butter Cream Frosting (750 Gm)', 'Red Velvet Slice Cake (Pack of 2)', 'Red Velvet Slice Cake & Cheese Cake (Pack of 2)', 'Red Velvet Slice Cake & Chocolate Decadence Cake (Pack of 2)', 'Red Velvet Slice Cake (Pack of 1)', 'Valentine Red Velvet Jar', 'Valentine Chocolate Jar', 'Valentines Jar Combo', 'Pink Guava 500 ML', 'Oreo Vanilla 500 ML', 'Cookie Crumble 500 ML', 'Chocolate Fantasy', 'Gulkand-E-Bahar', 'Pan Cake', 'Hazelnut Brownie (Pack Of 1)', 'Gulab Jamun (Pack Of 2)', 'Plum Cake', 'Red Velvet Cake With Butter Cream Frosting (750 Gm)', 'Chocolate Mud Cake (700 Gms)', 'CheeseCake (Pack of 1)', 'Chocolate Decadence (Pack of 1)', 'Red Velvet Slice Cake (Pack of 1)']\"\n",
      " \"['Chole Kulcha Meal', 'Upvas Aloo Paratha With Dahi', 'Singhada Aloo Paratha with Hare Tamatar Ki Sabji', 'Smoked Butter Chicken Combo', 'Paneer Methi Chaman Combo', 'Mutton Bhuna Combo', 'Rajma Masala Meal', 'Dal Makhani Veg Starter Combo', 'Dal Makhani Non-Veg Starter Combo', 'Malai Kofta Combo', 'Jumbo Chicken Wrap', 'Jumbo Veg Wrap', 'Jumbo Falafel Salsa Wrap', 'Chicken Overload Jumbo Wrap', 'Veg Pizza Wrap', 'Chicken Pizza Wrap', 'Mexican Potato Salsa Wrap', 'American Smokey Sausage Wrap', 'Makhani Falafel Wrap', 'Mutton Overload Wrap', 'Mac & Cheese Chicken Wrap', 'Mac & Cheese Veg Wrap', 'Barbeque Chicken Wrap', 'Mutton Boti Wrap', 'Masala Paneer Tikka Wrap', 'Fiery Paneer Tikka Wrap', 'Masala Chicken Tikka Wrap', 'Cheesy Corn Salsa Wrap', 'Chicken Mayo Wrap', 'Cheese Melt Chicken Wrap', 'Cheese Melt Paneer Wrap', 'Double Cheese Meatball Wrap', 'Reshmi Chicken Kebab Wrap', 'Egg Cheese Sausage Wrap', 'Double Egg Chatpata Wrap', 'Cheesy Potato Wrap', 'Veg Falafel Wrap', 'Chicken Bhuna Wrap', 'Chatpate Chole Wrap', 'Fiery Paneer Wrap', 'Fiery Chicken Wrap', 'Mac & Cheese Wrap', 'Hare Tamatar & Sabudana Wada Royal Thali', 'Singhada Aloo Paratha & Hare Tamatar Royal Satvik Meal', 'Smoked Butter Chicken With Omelette', 'Rajma Masala Royal Combo', 'Paneer Methi Chaman Royal Combo', 'Mutton Bhuna Royal Combo', 'Smoked Butter Chicken Royal Combo', 'Malai Kofta Royal Combo', 'Fusion Breakfast', 'Pan Cake', 'Aloo Paratha Combo', 'Chai for 4', 'Cheesy Chicken Meatballs', 'Peach Tea (Serves 4)', 'Falafel Nuggets with Mayo Dip', 'Potato Chilli Shots with Mayo Dip', 'Pan Cake', 'Kashmiri Kahwa (Serves 4)', 'Masala Chai (Serves 4)', 'Chai for 4 + Nature valley bar', 'Kulcha', 'Flavorful Rice Tub', 'Dal Makhani Bowl (Half KG)', 'Smoked Butter Chicken Bowl (Half KG)', 'Mutton Bhuna Bowl (Half KG)', 'Singhada Aloo Paratha Tub', 'Curd Bowl (Half KG)', 'Hare Tamatar Ki Subji (Half KG)', 'Rajma Masala Bowl (Half KG)', 'Triangle Paratha Tub', 'Malai Kofta Bowl (Half Kg)', 'Chocolate Fantasy', 'SWIG Jeera Masala', 'SWIG Green apple', 'Kesar Muesli', 'Gulab Jamun (Pack Of 2)', 'Plum Cake', 'Gulab Jamun (Pack of 1)', 'Moments', 'Hazelnut Brownie (Pack Of 1)', 'CheeseCake (Pack of 1)', 'Chocolate Decadence (Pack of 1)', 'Red Velvet Slice Cake (Pack of 1)', 'Mint Chaas']\"\n",
      " ...\n",
      " '[\\'Veg Thai Green Curry\\', \\'BBQ Sloppy Chicken Burger\\', \"Harry\\'s Farm House Pizza\", \\'Egg Schezwan Fried Rice\\', \\'Chicken Schezwan Noodles\\', \\'Veg Platter\\', \\'Non Veg Platter\\', \\'Tom Yum Goong\\', \\'Tandoori Kalonji Aloo\\', \\'Tandoori Pesto Flowerets\\', \\'Paneer and Pineapple Tikka\\', \\'Adraki Soy Chilli Chicken Kebab\\', \\'Tandoori Chicken Lollipop\\', \\'Parpika Choosa\\', \\'Lamb Seekh Kebab\\', \\'Achari Fish Tikka\\', \\'Rumali Roti\\', \\'Naan\\', \\'Butter Naan\\', \\'Garlic Naan\\', \\'Butter Garlic Naan\\', \\'Cheese Naan\\', \\'Butter Garlic Cheese Naan\\', \\'Garlic Cheese Naan\\', \\'Veg Fried Rice\\', \\'Veg Schezwan Fried Rice\\', \\'Veg Hakka Noodles\\', \\'Veg Schezwan Noodles\\', \\'Veg Singapore Noodles\\', \\'Egg Fried Rice\\', \\'Egg Schezwan Fried Rice\\', \\'Egg Hakka Noodles\\', \\'Egg Schezwan Noodles\\', \\'Egg Singapore Noodles\\', \\'Chicken Hakka Noodles\\', \\'Chicken Schezwan Noodles\\', \\'Chicken Singapore Noodles\\', \\'Prawns Fried Rice\\', \\'Prawns Schezwan Fried Rice\\', \\'Prawns Hakka Noodles\\', \\'Prawns Schezwan Noodles\\', \\'Prawns Singapore Noodles\\', \\'Margherita Pizza\\', \"Harry\\'s Farm House Pizza\", \\'Classique Paneer Tikka Pizza\\', \\'Veg Exotica Pizza\\', \\'Thai Basil Chicken Pizza\\', \\'Classic Chicken Tikka Pizza\\', \\'Spicy Pepperoni Pizza\\', \\'Penne Rustica\\', \\'Spaghetti Aglio e Olio Pasta\\', \\'HarryÃ\\x83\\\\x83Ã\\x82\\\\x83Ã\\x83\\\\x82Ã\\x82\\\\x83Ã\\x83\\\\x83Ã\\x82\\\\x82Ã\\x83\\\\x82Ã\\x82Â¢Ã\\x83\\\\x83Ã\\x82\\\\x83Ã\\x83\\\\x82Ã\\x82\\\\x82Ã\\x83\\\\x83Ã\\x82\\\\x82Ã\\x83\\\\x82Ã\\x82\\\\x80Ã\\x83\\\\x83Ã\\x82\\\\x83Ã\\x83\\\\x82Ã\\x82\\\\x82Ã\\x83\\\\x83Ã\\x82\\\\x82Ã\\x83\\\\x82Ã\\x82\\\\x99s Mac and Cheese Pasta\\', \\'Penne Vodkatini\\', \\'Baked Butter Chicken Lasaqna\\', \\'Spaghetti Carbonara\\', \\'Straight Up Veg Burger\\', \\'BBQ Sloppy Chicken Burger\\', \\'HarryÃ\\x83\\\\x83Ã\\x82\\\\x83Ã\\x83\\\\x82Ã\\x82\\\\x83Ã\\x83\\\\x83Ã\\x82\\\\x82Ã\\x83\\\\x82Ã\\x82Â¢Ã\\x83\\\\x83Ã\\x82\\\\x83Ã\\x83\\\\x82Ã\\x82\\\\x82Ã\\x83\\\\x83Ã\\x82\\\\x82Ã\\x83\\\\x82Ã\\x82\\\\x80Ã\\x83\\\\x83Ã\\x82\\\\x83Ã\\x83\\\\x82Ã\\x82\\\\x82Ã\\x83\\\\x83Ã\\x82\\\\x82Ã\\x83\\\\x82Ã\\x82\\\\x99s Lamb Burger\\', \\'Jazz Burger\\', \\'Paneer Bhurji Pav\\', \\'Egg Kejriwal\\', \\'Anda Bhurji Pav\\', \\'Omelette Pav\\', \\'Egg Chilly\\', \\'Goan Rassa Omelette with Pav\\', \\'Veg Wok Tossed Ginger Sprout Noodles with Crackling Spinach\\', \\'Veg Kung Pao Curry\\', \\'Veg Thai Green Curry\\', \\'Veg Laksa\\', \\'Chicken Wok Tossed Ginger Sprout Noodles with Crackling Spinach\\', \\'Grilled Chilly Chicken\\', \\'Chicken Kung Pao Curry\\', \\'Chicken Thai Green Curry\\', \\'Chicken Laksa\\', \\'Sri Lankan Black Pepper Chicken\\', \\'Nasi Stir Fry Rice\\', \\'Fish Wok Tossed Ginger Sprout Noodles with Crackling Spinach\\', \\'Seafood Kung Pao Curry\\', \\'Seafood Thai Green Curry\\', \\'Seafood Laksa\\', \\'Bangkok Seafood Bowl\\', \\'Crispy Garlic Bread\\', \\'Classic Masala Peanut\\', \\'Salt and Pepper Corn\\', \\'Bombay Spiced Wedges\\', \\'Harrys Onion Rings\\', \\'French Fries\\', \\'Crispy Chilli Potatoes\\', \\'Baked Sweet Potato Wedges\\', \\'Peri Peri Salsa Fries\\', \\'Parmigiana Truffle Fries\\', \\'Chicken Tikka Poutine\\', \\'Lamb Lovers Fries\\', \\'Paneer Bhurji Pav\\', \\'Cheese Chilli Toast\\', \\'Pita Chips with Classic Hummus\\', \\'Paneer Chilli Dry\\', \\'Veg Smoked Quesadillas\\', \\'Fondue Stuffed Mushrooms\\', \\'Wonton Kachories\\', \\'Cottage Cheese Malaysian Satay\\', \\'Muchos Nachos Veggie\\', \"Harry\\'s Cheese Fondue Veg Dunks\", \\'Non Veg Smoked Quesadillas\\', \\'Chilli Chicken\\', \\'Chicken Malaysian Satay\\', \\'Drunken Chicken\\', \\'Crispy Chicken\\', \\'Andhra Chicken Pepper Fry\\', \\'Singapore Chicken Lollipop\\', \\'Fiery Schezwan Pepper Chicken\\', \\'Chilli Chicken Roll\\', \\'BBQ Rum Flambeed Wings\\', \\'Grilled Tenderloin Chilli Fry\\', \\'Keema Pav\\', \\'Pigs in a Blanket\\', \\'Kerala Buff Chilly\\', \\'Buffalo Chicken Winglets\\', \\'Pattaya Beach Fish Goujons\\', \\'Fishermans Basket\\', \"Harry\\'s Cheese Fondue Non Veg Dunks\", \\'Paneer Urban Tikka Masala\\', \"Veg Harry\\'s Stroganoff\", \\'Chicken Urban Tikka Masala\\', \\'Jamaican Jerk Chicken\\', \"Chicken Harry\\'s Stroganoff\", \\'Harrys Pepper Chicken\\', \\'Peppered Tenderloin Steak\\', \"Harry\\'s Beer Batter Fish\", \\'Smoked Paprika Fish\\', \\'Darsaan\\', \\'Sizzling Brownie\\']'\n",
      " '[\\'Chicken Wings\\', \\'Pepper Chicken\\', \"Beef Grilled One\\'s Burger\", \\'Spicy Louisiana Pizza\\', \\'Chilly Chicken Pizza\\', \\'Chicken Mexicana Pizza\\', \\'Veg Italian Tomato and Fresh Basil Soup\\', \\'Chicken Lemon Coriander Soup\\', \\'Southern Fried Chicken\\', \\'Chicken Wings\\', \\'Gambas\\', \\'Bbq Jerk Chicken\\', \\'Chicken Nachos Carnitos\\', \\'Spicy Chicken Carrebbean Sausages\\', \\'Spicy Pork Carrebbean Sausages\\', \\'Pork Nachos Carnitos\\', \\'Beef Spicy New Orleans Braised Meat\\', \\'Cajun Spiced Fish Fingers\\', \\'Pepper Chicken\\', \\'Chicken Apollo Style\\', \\'Prawns Apollo Style\\', \\'Chicken Streetside Chilly Style\\', \\'Beef Streetside Chilly Style\\', \\'Pork Streetside Chilly Style\\', \\'Chicken Manchurian Style\\', \"Chicken Spicy Chef\\'s Special Style\", \"Beef Spicy Chef\\'s Special Style\", \"Chicken Kim\\'s Style\", \\'Beef Nachos Carnitos\\', \"Beef Kim\\'s Style\", \"Pork Kim\\'s Style\", \\'Chettinad Chicken Roast\\', \\'Chettinad Pudhina Chicken Roast\\', \\'Chicken Kabab\\', \"Prawns Spicy Chef\\'s Special Style\", \\'Prawns Manchurian Style\\', \\'Fried Beef\\', \\'Pork Spicy New Orleans Braised Meat\\', \\'Fried Pork\\', \"Prawns Kim\\'s Style\", \\'Fish Manchurian Style\\', \"Fish Spicy Chef\\'s Special Style\", \\'Fish Streetside Chilly Style\\', \\'Fish Apollo Style\\', \"Fish Kim\\'s Style\", \\'Pork Streetside Chilly Style\\', \"Pork Spicy Chef\\'s Special Style\", \\'Pork Manchurian Style\\', \\'Beef Manchurian Style\\', \"Paneer Korean Kim\\'s Style\", \\'Paneer Tangy Spinach Sauce\\', \\'Paneer Apollo Style Sauce\\', \\'Paneer Singaporean Style Sauce\\', \\'Paneer Ginger Chilly Garlic Sauce\\', \\'Paneer Ginger Chilly Garlic Sauce\\', \\'Paneer Ginger Chilly Garlic Sauce\\', \\'Paneer Hot Garlic Sauce\\', \\'Paneer Lemon Coriander Sauce\\', \"Veg Korean Kim\\'s Style\", \\'Veg Tangy Spinach Sauce\\', \\'Veg Apollo Style Sauce\\', \"Veg Korean Kim\\'s Style\", \\'Veg Singaporean Style Sauce\\', \\'Veg Ginger Chilly Garlic Sauce Burger\\', \\'Veg Chefs Super Spicy Style\\', \\'Veg Hot Garlic Sauce\\', \\'Lemon Coriander Sauce\\', \"Chicken Korean Kim\\'s Style\", \\'Chicken Tangy Spinach Sauce\\', \\'Apollo Style Sauce\\', \\'Chicken Singaporean Style Sauce\\', \\'Chicken Singaporean Style Sauce\\', \\'Chicken Chefs Super Spicy Style\\', \\'Chicken Hot Garlic Sauce\\', \\'Chicken Hot Garlic Sauce\\', \"Beef Korean Kim\\'s Style\", \\'Beef Tangy Spinach Sauce\\', \\'Beef Apollo Style Sauce\\', \\'Beef Singaporean Style Sauce\\', \\'Beef Ginger Chilly Garlic Sauce\\', \\'Beef Chefs Super Spicy Style\\', \\'Beef Chefs Super Spicy Style\\', \\'Beef Hot Garlic Sauce\\', \\'Beef Lemon Coriander Sauce\\', \"Pork Korean Kim\\'s Style\", \\'Pork Tangy Spinach Sauce\\', \\'Pork Apollo Style Sauce\\', \\'Pork Singaporean Style Sauce\\', \\'Pork Ginger Chilly Garlic Sauce\\', \\'Pork Chefs Super Spicy Style\\', \\'Pork Hot Garlic Sauce\\', \\'Pork Lemon Coriander Sauce\\', \"Fish Korean Kim\\'s Style\", \\'Fish Tangy Spinach Sauce\\', \\'Fish Apollo Style Sauce\\', \\'Fish Singaporean Style Sauce\\', \\'Fish Ginger Chilly Garlic Sauce\\', \\'Fish Chefs Super Spicy Style\\', \\'Fish Hot Garlic Sauce\\', \\'Fish Lemon Coriander Sauce\\', \"Korean Kim\\'s Style\", \\'Prawns Tangy Spinach Sauce\\', \\'Prawns Apollo Style Sauce\\', \\'Prawns Apollo Style Sauce\\', \\'Prawns Ginger Chilly Garlic Sauce\\', \\'Prawns Chefs Super Spicy Style\\', \\'Prawns Hot Garlic Sauce\\', \\'Prawns Lemon Coriander Sauce\\', \\'Veg Stir Fried Rice\\', \\'Veg Mongolian Rice\\', \\'Veg Olivers Spicy Rice\\', \\'Veg Singaporean Rice\\', \\'Egg Stir Fried Rice\\', \\'Egg Mongolian Rice\\', \\'Egg Olivers Spicy Rice\\', \\'Egg Singaporean Rice\\', \\'Chicken Stir Fried Rice\\', \\'Chicken Mongolian Rice\\', \\'Chicken Olivers Spicy Rice\\', \\'Chicken Singaporean Rice\\', \\'Beef Stir Fried Rice\\', \\'Beef Mongolian Rice\\', \\'Beef Olivers Spicy Rice\\', \\'Beef Singaporean Rice\\', \\'Pork Stir Fried Rice\\', \\'Pork Mongolian Rice\\', \\'Pork Olivers Spicy Rice\\', \\'Pork Singaporean Rice\\', \\'Fish Stir Fried Rice\\', \\'Fish Mongolian Rice\\', \\'Fish Olivers Spicy Rice\\', \\'Fish Singaporean Rice\\', \\'Prawns Stir Fried Rice\\', \\'Prawns Mongolian Rice\\', \\'Prawns Olivers Spicy Rice\\', \\'Prawns Singaporean Rice\\', \\'Veg Stir Fried Noodles\\', \\'Veg Mongolian Noodles\\', \\'Veg Olivers Spicy Noodles\\', \\'Veg Singaporean Noodles\\', \\'Egg Stir Fried Noodles\\', \\'Egg Mongolian Noodles\\', \\'Egg Olivers Spicy Noodles\\', \\'Egg Singaporean Noodles\\', \\'Chicken Stir Fried Noodles\\', \\'Chicken Mongolian Noodles\\', \\'Chicken Olivers Spicy Noodles\\', \\'Chicken Singaporean Noodles\\', \\'Beef Stir Fried Noodles\\', \\'Beef Mongolian Noodles\\', \\'Beef Olivers Spicy Noodles\\', \\'Beef Singaporean Noodles\\', \\'Pork Stir Fried Noodles\\', \\'Pork Mongolian Noodles\\', \\'Pork Olivers Spicy Noodles\\', \\'Pork Singaporean Noodles\\', \\'Fish Stir Fried Noodles\\', \\'Fish Mongolian Noodles\\', \\'Fish Olivers Spicy Noodles\\', \\'Fish Singaporean Noodles\\', \\'Prawns Stir Fried Noodles\\', \\'Prawns Mongolian Noodles\\', \\'Prawns Olivers Spicy Noodles\\', \\'Prawns Singaporean Noodles\\', \\'Mexican Bean Burger\\', \\'Bean Bbq\\', \\'Ginger Chilly Garlic Sauce Burger\\', \\'Cottage Cheese Jerky Burgers\\', \\'Spinach Ricotta Smashers\\', \\'Grilled Pepper Smashers\\', \\'Grilled Veg Sandwich\\', \\'Falafel\\', \\'Eggplant Parm\\', \"Chicken Grilled One\\'s Burger\", \"Beef Grilled One\\'s Burger\", \\'Almost Famous Moo Burger\\', \\'Miami Chicken Burger\\', \\'Miami Beef Burger\\', \\'Philly Cheesesteak Burger\\', \\'Santa Fe Beef Burger\\', \\'Cleveland Sandwich\\', \\'Philly Cheese Steak Sandwich\\', \\'Cuban Sandwich\\', \\'Pulled Chicken Sandwich\\', \\'Beef Saigon Bahn Mi Sandwich\\', \\'Pork Saigon Bahn Mi Sandwich\\', \\'Cheese Garlic Bread\\', \\'Jalapeno Poppers\\', \\'Cajun Spiced Potato Wedges\\', \\'Bruschetta\\', \\'Spring Rolls\\', \\'Crispy Potato Fingers\\', \\'Manchurian Style\\', \\'Streeside Chilly Style\\', \\'Crispy Fried Babycorn\\', \\'American Corn Bombs\\', \\'Cripsy Fried Paneer\\', \\'Pepper Salt\\', \\'OliverÃ\\x83\\\\x83Ã\\x82\\\\x83Ã\\x83\\\\x82Ã\\x82\\\\x83Ã\\x83\\\\x83Ã\\x82\\\\x82Ã\\x83\\\\x82Ã\\x82Â¢Ã\\x83\\\\x83Ã\\x82\\\\x83Ã\\x83\\\\x82Ã\\x82\\\\x82Ã\\x83\\\\x83Ã\\x82\\\\x82Ã\\x83\\\\x82Ã\\x82\\\\x80Ã\\x83\\\\x83Ã\\x82\\\\x83Ã\\x83\\\\x82Ã\\x82\\\\x82Ã\\x83\\\\x83Ã\\x82\\\\x82Ã\\x83\\\\x82Ã\\x82\\\\x99s Pepper Masala Paneer Roast\\', \\'OliverÃ\\x83\\\\x83Ã\\x82\\\\x83Ã\\x83\\\\x82Ã\\x82\\\\x83Ã\\x83\\\\x83Ã\\x82\\\\x82Ã\\x83\\\\x82Ã\\x82Â¢Ã\\x83\\\\x83Ã\\x82\\\\x83Ã\\x83\\\\x82Ã\\x82\\\\x82Ã\\x83\\\\x83Ã\\x82\\\\x82Ã\\x83\\\\x82Ã\\x82\\\\x80Ã\\x83\\\\x83Ã\\x82\\\\x83Ã\\x83\\\\x82Ã\\x82\\\\x82Ã\\x83\\\\x83Ã\\x82\\\\x82Ã\\x83\\\\x82Ã\\x82\\\\x99s Chettinad Aloo Roast\\', \\'OliverÃ\\x83\\\\x83Ã\\x82\\\\x83Ã\\x83\\\\x82Ã\\x82\\\\x83Ã\\x83\\\\x83Ã\\x82\\\\x82Ã\\x83\\\\x82Ã\\x82Â¢Ã\\x83\\\\x83Ã\\x82\\\\x83Ã\\x83\\\\x82Ã\\x82\\\\x82Ã\\x83\\\\x83Ã\\x82\\\\x82Ã\\x83\\\\x82Ã\\x82\\\\x80Ã\\x83\\\\x83Ã\\x82\\\\x83Ã\\x83\\\\x82Ã\\x82\\\\x82Ã\\x83\\\\x83Ã\\x82\\\\x82Ã\\x83\\\\x82Ã\\x82\\\\x99s Pudhina Aloo Roast\\', \\'Onion Pakoda\\', \\'Paneer Pakoda\\', \\'Egg Bhurji\\', \\'Masala Egg Pakoda\\', \\'Masala Omlette\\', \\'Egg Bhurji With Bacon & Sausage\\', \\'Chilly Egg\\', \\'Egg Bhurji With Bacon And Sausage\\', \\'Pizza Margharita\\', \\'Spicy Louisiana Pizza\\', \\'Wilted Spinach Pizza\\', \\'Eggplant Pizza\\', \\'Patata Salsa Pizza\\', \\'Stirfried Babycorn Pizza\\', \\'Arugula Pizza\\', \\'Pesto Shrooms Pizza\\', \\'Chilly Paneer Pizza\\', \\'Spicy Peri Peri Paneer & Spinach Pizza\\', \\'Mexican Nachos Special Pizza\\', \\'Chicken BBQ Pizza\\', \\'Chicken Sausage Pizza\\', \\'Chilly Chicken Pizza\\', \\'Chicken 65 Pizza\\', \\'Chicken Mexicana Pizza\\', \\'Chicken Bolognese Pizza\\', \\'Mexican Chicken Nachos Pizza\\', \\'Mexican Beef Nachos Pizza\\', \\'Arugula Bacon Pizza\\', \\'Pepperoni Pizza\\', \\'Chorizo Pizza\\', \\'Chocolate Brownie\\']'\n",
      " \"['Dal Tadka', 'Dal Makhani', 'Paneer Tikka Masala', 'Kadai Paneer', 'Paneer Makhani', 'Malai Kofta', 'Mutton Rogan Josh', 'Jeera Rice', 'Veg Biryani', 'Murgh Dum Biryani', 'Murgh Dum Biryani [Family Pack]', 'Hara Bara Kabab', 'Paneer Tikka', 'Tandoori Murgh', 'Murgh Lahori Kalmi', 'Jalebi with Rabdi', 'Roomali Roti', 'Afghani Naan', 'Stuffed Paratha', 'Paneer Tikka Masala Meal', 'Paneer Makhani Meal', 'Veg Biryani Meal', 'Executive Veg Box Meal', 'Executive Non Veg Box Meal', 'Rajma Meal', 'Peshawari Channa Meal', 'Paneer Tikka Masala Meal', 'Paneer Makhani Meal', 'Egg Curry Meal', 'Butter Chicken Meal', 'Rara Murgh Meal', 'Mutton Rogan Josh Meal', 'Rara Mutton Meal', 'Veg Biryani Meal', 'Egg Biryani Meal', 'Murgh Dum Biryani Meal', 'Murgh Tikka Biryani Meal', 'Mutton Biryani Meal', 'Prawns Biryani Meal', 'Executive Veg Box Meal', 'Executive Non Veg Box Meal', 'Tomato Shorba', 'Murgh Shorba', 'Bagicha ka Salad', 'Karela Salad', 'Kaju Fry Salad', 'Murgh Tikka Salad', 'French Fries', 'Aloo Tak-a-Tak', 'Baby Corn Harimirch Wala', 'Bhatti ka Gobi', 'Hara Bara Kabab', 'Tandoori Mushroom', 'Mushroom Harimirch Wala', 'Paneer Resunga', 'Paneer Tikka', 'Peshawari Seekh Kabab', 'Tandoori Murgh', 'Murgh Lahori Kalmi', 'Mutton Pepper Dry', 'Macchi Amritsari', 'Macchi Tak-a-Tak', 'Tawa Macchi', 'Prawns Balaika', 'Prawns Tak-a-Tak', 'Tandoori Prawns', 'Prawns Harimirch Wala', 'Dal Tadka', 'Dal Makhani', 'Paneer Tikka Masala', 'Paneer Saagwala', 'Kadai Paneer', 'Paneer Makhani', 'Mushroom Matar', 'Veg Patiala', 'Diwani Handi', 'Kadai Veg', 'Rajma', 'Sarson ka Saag', 'Aloo Gobi Masala', 'Bhindi Do Pyaza', 'Peshawari Channa', 'Malai Kofta', 'Kaju Masala', 'Egg Bhurji', 'Egg Masala', 'Rarra Mutton', 'Mutton Rogan Josh', 'Methi Macchi Masala', 'Macchi Jalfrezi', 'Prawns Masala', 'Plain Rice', 'Curd Rice', 'Jeera Rice', 'Veg Pulao', 'Peas Pulao', 'Veg Biryani', 'Egg Biryani', 'Murgh Dum Biryani', 'Murgh Tikka Biryani', 'Mutton Biryani', 'Prawns Biryani', 'Egg Biryani [Family Pack]', 'Murgh Dum Biryani [Family Pack]', 'Murgh Tikka Biryani [Family Pack]', 'Mutton Biryani [Family Pack]', 'Prawns Biryani [Family Pack]', 'Phulka', 'Roti', 'Butter Roti', 'Harimirch Paratha', 'Lalmirch Paratha', 'Garlic Naan', 'Naan', 'Butter Naan', 'Lachha Paratha', 'Kulcha', 'Butter Kulcha', 'Makkai Ki Roti', 'Roomali Roti', 'Afghani Naan', 'Peshawari Paratha', 'Stuffed Paratha', '8 Roti ka Chota Khazana', '12 Roti ka Bada Khazana', 'Egg Paratha', 'Mutton Keema Paratha', 'Roasted Papad', 'Masala Papad', 'Plain Curd', 'Mixed Veg Raita', 'Boondi Raita', 'Cucumber Raita', 'Pineapple Raita', 'Onion Raita', 'Mint Raita', 'Rabdi', 'Jalebi', 'Jalebi with Rabdi', 'Gulab Jamun', 'Rasgulla', 'Bhune Jeere ki Chaach', 'Jal Jeera', 'Meetha Punjabi Lassi', 'Namkeen Punjabi Lassi', 'Masala Punjabi Lassi', 'Patiala Punjabi Lassi', 'Meetha Nimboo Paani', 'Namkeen Nimboo Paani', 'Roohafza Sherbat', 'Mineral Water [1 litre]']\"]\n"
     ]
    }
   ],
   "source": [
    "print(df[\"menu_item\"].nunique(), \"menu items\", df[\"menu_item\"].unique())"
   ]
  },
  {
   "cell_type": "markdown",
   "metadata": {},
   "source": [
    "#### Observations\n",
    "\n",
    "- Of the 51717 restaurants, only the menu items for 9000+ restaurant is available with us, so we will drop this column as this has more that 80% of the columns with no values\n",
    "- Even though the entry is not Null or Nan, they empty menus are represented by blank lists"
   ]
  },
  {
   "cell_type": "code",
   "execution_count": 67,
   "metadata": {},
   "outputs": [],
   "source": [
    "df.drop(\"menu_item\", axis=1, inplace=True)"
   ]
  },
  {
   "cell_type": "markdown",
   "metadata": {},
   "source": [
    "## Category listed in"
   ]
  },
  {
   "cell_type": "code",
   "execution_count": 68,
   "metadata": {},
   "outputs": [
    {
     "name": "stdout",
     "output_type": "stream",
     "text": [
      "7 listings based on type ['Buffet' 'Cafes' 'Delivery' 'Desserts' 'Dine-out' 'Drinks & nightlife'\n",
      " 'Pubs and bars']\n"
     ]
    }
   ],
   "source": [
    "print(df[\"listed_in(type)\"].nunique(), \"listings based on type\", df[\"listed_in(type)\"].unique())"
   ]
  },
  {
   "cell_type": "code",
   "execution_count": 69,
   "metadata": {},
   "outputs": [
    {
     "data": {
      "image/png": "[encoded data removed]",
      "text/plain": [
       "<Figure size 432x288 with 1 Axes>"
      ]
     },
     "metadata": {
      "needs_background": "light"
     },
     "output_type": "display_data"
    }
   ],
   "source": [
    "category_listed_in = df[\"listed_in(type)\"].value_counts()\n",
    "ax = sns.barplot(x = category_listed_in, y= category_listed_in.index, palette=\"Set3\")"
   ]
  },
  {
   "cell_type": "markdown",
   "metadata": {},
   "source": [
    "#### Observation\n",
    " - Most of the restaurants fall in the delivery category\n",
    " - Dine-out category is a close second"
   ]
  },
  {
   "cell_type": "markdown",
   "metadata": {},
   "source": [
    "## Place Listed In"
   ]
  },
  {
   "cell_type": "code",
   "execution_count": 70,
   "metadata": {},
   "outputs": [
    {
     "name": "stdout",
     "output_type": "stream",
     "text": [
      "30 listings based on city ['Banashankari' 'Bannerghatta Road' 'Basavanagudi' 'Bellandur'\n",
      " 'Brigade Road' 'Brookefield' 'BTM' 'Church Street' 'Electronic City'\n",
      " 'Frazer Town' 'HSR' 'Indiranagar' 'Jayanagar' 'JP Nagar' 'Kalyan Nagar'\n",
      " 'Kammanahalli' 'Koramangala 4th Block' 'Koramangala 5th Block'\n",
      " 'Koramangala 6th Block' 'Koramangala 7th Block' 'Lavelle Road'\n",
      " 'Malleshwaram' 'Marathahalli' 'MG Road' 'New BEL Road' 'Old Airport Road'\n",
      " 'Rajajinagar' 'Residency Road' 'Sarjapur Road' 'Whitefield']\n"
     ]
    }
   ],
   "source": [
    "print(df[\"listed_in(city)\"].nunique(), \"listings based on city\", df[\"listed_in(city)\"].unique())"
   ]
  },
  {
   "cell_type": "code",
   "execution_count": 71,
   "metadata": {},
   "outputs": [
    {
     "data": {
      "image/png": "[encoded data removed]",
      "text/plain": [
       "<Figure size 432x288 with 1 Axes>"
      ]
     },
     "metadata": {
      "needs_background": "light"
     },
     "output_type": "display_data"
    }
   ],
   "source": [
    "place_listed_in = df[\"listed_in(city)\"].value_counts()\n",
    "ax = sns.barplot(x = place_listed_in, y= place_listed_in.index, palette=\"Set3\")"
   ]
  },
  {
   "cell_type": "markdown",
   "metadata": {},
   "source": [
    "#### Observations\n",
    "- BTM dominates in terms of number of restaurants.\n",
    "- This attribute is pretty closely related to the Location attribute and for the same reason we will drop the **location** attribute and keep this\n",
    "- More so location contains 93 entries compared to 30 here, this will be a comparitively less sparse matrix and also more abstracted in terms of place of restaurant\n",
    "- Also, location has 21 NaN entries, hence keeping **Place Listed In** will be more beneficial"
   ]
  },
  {
   "cell_type": "code",
   "execution_count": 72,
   "metadata": {},
   "outputs": [],
   "source": [
    "df.drop(\"location\", axis = 1, inplace = True)"
   ]
  },
  {
   "cell_type": "code",
   "execution_count": 73,
   "metadata": {},
   "outputs": [
    {
     "data": {
      "text/html": [
       "<div>\n",
       "<style scoped>\n",
       "    .dataframe tbody tr th:only-of-type {\n",
       "        vertical-align: middle;\n",
       "    }\n",
       "\n",
       "    .dataframe tbody tr th {\n",
       "        vertical-align: top;\n",
       "    }\n",
       "\n",
       "    .dataframe thead th {\n",
       "        text-align: right;\n",
       "    }\n",
       "</style>\n",
       "<table border=\"1\" class=\"dataframe\">\n",
       "  <thead>\n",
       "    <tr style=\"text-align: right;\">\n",
       "      <th></th>\n",
       "      <th>online_order</th>\n",
       "      <th>book_table</th>\n",
       "      <th>rate</th>\n",
       "      <th>votes</th>\n",
       "      <th>rest_type</th>\n",
       "      <th>cuisines</th>\n",
       "      <th>approx_cost(for two people)</th>\n",
       "      <th>listed_in(type)</th>\n",
       "      <th>listed_in(city)</th>\n",
       "    </tr>\n",
       "  </thead>\n",
       "  <tbody>\n",
       "    <tr>\n",
       "      <td>0</td>\n",
       "      <td>1</td>\n",
       "      <td>1</td>\n",
       "      <td>4.1</td>\n",
       "      <td>775</td>\n",
       "      <td>Casual Dining</td>\n",
       "      <td>North Indian, Mughlai, Chinese</td>\n",
       "      <td>800</td>\n",
       "      <td>Buffet</td>\n",
       "      <td>Banashankari</td>\n",
       "    </tr>\n",
       "    <tr>\n",
       "      <td>1</td>\n",
       "      <td>1</td>\n",
       "      <td>0</td>\n",
       "      <td>4.1</td>\n",
       "      <td>787</td>\n",
       "      <td>Casual Dining</td>\n",
       "      <td>Chinese, North Indian, Thai</td>\n",
       "      <td>800</td>\n",
       "      <td>Buffet</td>\n",
       "      <td>Banashankari</td>\n",
       "    </tr>\n",
       "    <tr>\n",
       "      <td>2</td>\n",
       "      <td>1</td>\n",
       "      <td>0</td>\n",
       "      <td>3.8</td>\n",
       "      <td>918</td>\n",
       "      <td>Cafe, Casual Dining</td>\n",
       "      <td>Cafe, Mexican, Italian</td>\n",
       "      <td>800</td>\n",
       "      <td>Buffet</td>\n",
       "      <td>Banashankari</td>\n",
       "    </tr>\n",
       "  </tbody>\n",
       "</table>\n",
       "</div>"
      ],
      "text/plain": [
       "   online_order  book_table  rate  votes            rest_type  \\\n",
       "0             1           1   4.1    775        Casual Dining   \n",
       "1             1           0   4.1    787        Casual Dining   \n",
       "2             1           0   3.8    918  Cafe, Casual Dining   \n",
       "\n",
       "                         cuisines approx_cost(for two people) listed_in(type)  \\\n",
       "0  North Indian, Mughlai, Chinese                         800          Buffet   \n",
       "1     Chinese, North Indian, Thai                         800          Buffet   \n",
       "2          Cafe, Mexican, Italian                         800          Buffet   \n",
       "\n",
       "  listed_in(city)  \n",
       "0    Banashankari  \n",
       "1    Banashankari  \n",
       "2    Banashankari  "
      ]
     },
     "execution_count": 73,
     "metadata": {},
     "output_type": "execute_result"
    }
   ],
   "source": [
    "df.head(3)"
   ]
  },
  {
   "cell_type": "markdown",
   "metadata": {},
   "source": [
    "## Pre-processing the Numeric and Categorical Attributes"
   ]
  },
  {
   "cell_type": "markdown",
   "metadata": {},
   "source": [
    "### Applying Standard Scalar on numerical attributes"
   ]
  },
  {
   "cell_type": "code",
   "execution_count": 74,
   "metadata": {},
   "outputs": [],
   "source": [
    "sc = StandardScaler()"
   ]
  },
  {
   "cell_type": "code",
   "execution_count": 75,
   "metadata": {},
   "outputs": [],
   "source": [
    "df[['rate', 'votes', 'approx_cost(for two people)']] = sc.fit_transform(df[['rate', 'votes', 'approx_cost(for two people)']])"
   ]
  },
  {
   "cell_type": "code",
   "execution_count": 76,
   "metadata": {},
   "outputs": [
    {
     "data": {
      "text/html": [
       "<div>\n",
       "<style scoped>\n",
       "    .dataframe tbody tr th:only-of-type {\n",
       "        vertical-align: middle;\n",
       "    }\n",
       "\n",
       "    .dataframe tbody tr th {\n",
       "        vertical-align: top;\n",
       "    }\n",
       "\n",
       "    .dataframe thead th {\n",
       "        text-align: right;\n",
       "    }\n",
       "</style>\n",
       "<table border=\"1\" class=\"dataframe\">\n",
       "  <thead>\n",
       "    <tr style=\"text-align: right;\">\n",
       "      <th></th>\n",
       "      <th>online_order</th>\n",
       "      <th>book_table</th>\n",
       "      <th>rate</th>\n",
       "      <th>votes</th>\n",
       "      <th>rest_type</th>\n",
       "      <th>cuisines</th>\n",
       "      <th>approx_cost(for two people)</th>\n",
       "      <th>listed_in(type)</th>\n",
       "      <th>listed_in(city)</th>\n",
       "    </tr>\n",
       "  </thead>\n",
       "  <tbody>\n",
       "    <tr>\n",
       "      <td>0</td>\n",
       "      <td>1</td>\n",
       "      <td>1</td>\n",
       "      <td>1.010532</td>\n",
       "      <td>0.611201</td>\n",
       "      <td>Casual Dining</td>\n",
       "      <td>North Indian, Mughlai, Chinese</td>\n",
       "      <td>0.559172</td>\n",
       "      <td>Buffet</td>\n",
       "      <td>Banashankari</td>\n",
       "    </tr>\n",
       "    <tr>\n",
       "      <td>1</td>\n",
       "      <td>1</td>\n",
       "      <td>0</td>\n",
       "      <td>1.010532</td>\n",
       "      <td>0.626130</td>\n",
       "      <td>Casual Dining</td>\n",
       "      <td>Chinese, North Indian, Thai</td>\n",
       "      <td>0.559172</td>\n",
       "      <td>Buffet</td>\n",
       "      <td>Banashankari</td>\n",
       "    </tr>\n",
       "    <tr>\n",
       "      <td>2</td>\n",
       "      <td>1</td>\n",
       "      <td>0</td>\n",
       "      <td>0.251782</td>\n",
       "      <td>0.789099</td>\n",
       "      <td>Cafe, Casual Dining</td>\n",
       "      <td>Cafe, Mexican, Italian</td>\n",
       "      <td>0.559172</td>\n",
       "      <td>Buffet</td>\n",
       "      <td>Banashankari</td>\n",
       "    </tr>\n",
       "    <tr>\n",
       "      <td>3</td>\n",
       "      <td>0</td>\n",
       "      <td>0</td>\n",
       "      <td>-0.001135</td>\n",
       "      <td>-0.243456</td>\n",
       "      <td>Quick Bites</td>\n",
       "      <td>South Indian, North Indian</td>\n",
       "      <td>-0.584009</td>\n",
       "      <td>Buffet</td>\n",
       "      <td>Banashankari</td>\n",
       "    </tr>\n",
       "    <tr>\n",
       "      <td>4</td>\n",
       "      <td>0</td>\n",
       "      <td>0</td>\n",
       "      <td>0.251782</td>\n",
       "      <td>-0.146421</td>\n",
       "      <td>Casual Dining</td>\n",
       "      <td>North Indian, Rajasthani</td>\n",
       "      <td>0.101900</td>\n",
       "      <td>Buffet</td>\n",
       "      <td>Banashankari</td>\n",
       "    </tr>\n",
       "    <tr>\n",
       "      <td>5</td>\n",
       "      <td>1</td>\n",
       "      <td>0</td>\n",
       "      <td>0.251782</td>\n",
       "      <td>0.002864</td>\n",
       "      <td>Casual Dining</td>\n",
       "      <td>North Indian</td>\n",
       "      <td>0.101900</td>\n",
       "      <td>Buffet</td>\n",
       "      <td>Banashankari</td>\n",
       "    </tr>\n",
       "    <tr>\n",
       "      <td>6</td>\n",
       "      <td>0</td>\n",
       "      <td>0</td>\n",
       "      <td>-0.254052</td>\n",
       "      <td>-0.342979</td>\n",
       "      <td>Casual Dining</td>\n",
       "      <td>North Indian, South Indian, Andhra, Chinese</td>\n",
       "      <td>0.559172</td>\n",
       "      <td>Buffet</td>\n",
       "      <td>Banashankari</td>\n",
       "    </tr>\n",
       "  </tbody>\n",
       "</table>\n",
       "</div>"
      ],
      "text/plain": [
       "   online_order  book_table      rate     votes            rest_type  \\\n",
       "0             1           1  1.010532  0.611201        Casual Dining   \n",
       "1             1           0  1.010532  0.626130        Casual Dining   \n",
       "2             1           0  0.251782  0.789099  Cafe, Casual Dining   \n",
       "3             0           0 -0.001135 -0.243456          Quick Bites   \n",
       "4             0           0  0.251782 -0.146421        Casual Dining   \n",
       "5             1           0  0.251782  0.002864        Casual Dining   \n",
       "6             0           0 -0.254052 -0.342979        Casual Dining   \n",
       "\n",
       "                                      cuisines  approx_cost(for two people)  \\\n",
       "0               North Indian, Mughlai, Chinese                     0.559172   \n",
       "1                  Chinese, North Indian, Thai                     0.559172   \n",
       "2                       Cafe, Mexican, Italian                     0.559172   \n",
       "3                   South Indian, North Indian                    -0.584009   \n",
       "4                     North Indian, Rajasthani                     0.101900   \n",
       "5                                 North Indian                     0.101900   \n",
       "6  North Indian, South Indian, Andhra, Chinese                     0.559172   \n",
       "\n",
       "  listed_in(type) listed_in(city)  \n",
       "0          Buffet    Banashankari  \n",
       "1          Buffet    Banashankari  \n",
       "2          Buffet    Banashankari  \n",
       "3          Buffet    Banashankari  \n",
       "4          Buffet    Banashankari  \n",
       "5          Buffet    Banashankari  \n",
       "6          Buffet    Banashankari  "
      ]
     },
     "execution_count": 76,
     "metadata": {},
     "output_type": "execute_result"
    }
   ],
   "source": [
    "df.head(7)"
   ]
  },
  {
   "cell_type": "markdown",
   "metadata": {},
   "source": [
    "### We will LabelEncode the Categorical Attributes followed by OneHot Encoding"
   ]
  },
  {
   "cell_type": "markdown",
   "metadata": {},
   "source": [
    "#### online_order and book_table are already One-Hot Encoded"
   ]
  },
  {
   "cell_type": "markdown",
   "metadata": {},
   "source": [
    "### rest_type and cuisines"
   ]
  },
  {
   "cell_type": "markdown",
   "metadata": {},
   "source": [
    "### For the attributes rest_type and cuisines, they will not be One Hot Encode them directly.\n",
    "\n",
    "**Custom Encoding for them would be created.**\n",
    "\n",
    "- **Restaurant type has 93 combinations but only 25 unique values as we had seen above.**\n",
    "- **Cuisine has 2723 combinations but only 107 unique values as we had seen above.**\n",
    "\n",
    "**The values would be split and their corresponding positions in the 25 dimensional and 107 dimensional encoding vector will be made 1 respectively.**\n",
    "\n",
    "**This data would be concatenated with the original dataframe.**\n",
    "\n",
    "**This would help in reducing dimensionality by (2723-107) + (93-25) = 2684 dimensions.**\n",
    "**It would also lead to a way denser matrix and carry information in a better manner.**"
   ]
  },
  {
   "cell_type": "code",
   "execution_count": 77,
   "metadata": {},
   "outputs": [],
   "source": [
    "cuisine_dict = {}\n",
    "i = 0\n",
    "for i, cuisine in enumerate(cuisines_set):\n",
    "    cuisine_dict[cuisine] = i"
   ]
  },
  {
   "cell_type": "code",
   "execution_count": 78,
   "metadata": {},
   "outputs": [
    {
     "data": {
      "text/plain": [
       "{'Assamese': 0,\n",
       " 'Hyderabadi': 1,\n",
       " 'Tibetan': 2,\n",
       " 'Arabian': 3,\n",
       " 'Parsi': 4,\n",
       " 'Jewish': 5,\n",
       " 'Chettinad': 6,\n",
       " 'Kerala': 7,\n",
       " 'Vegan': 8,\n",
       " 'Tea': 9,\n",
       " 'Middle Eastern': 10,\n",
       " 'Mughlai': 11,\n",
       " 'Maharashtrian': 12,\n",
       " 'Lebanese': 13,\n",
       " 'Modern Indian': 14,\n",
       " 'Mithai': 15,\n",
       " 'Cantonese': 16,\n",
       " 'Tamil': 17,\n",
       " 'Burger': 18,\n",
       " 'Continental': 19,\n",
       " 'Mongolian': 20,\n",
       " 'BBQ': 21,\n",
       " 'Paan': 22,\n",
       " 'Juices': 23,\n",
       " 'Afghan': 24,\n",
       " 'Chinese': 25,\n",
       " 'Charcoal Chicken': 26,\n",
       " 'Thai': 27,\n",
       " 'Malaysian': 28,\n",
       " 'Korean': 29,\n",
       " 'Vietnamese': 30,\n",
       " 'Japanese': 31,\n",
       " 'Asian': 32,\n",
       " 'Awadhi': 33,\n",
       " 'Healthy Food': 34,\n",
       " 'Kebab': 35,\n",
       " 'Indian': 36,\n",
       " 'Gujarati': 37,\n",
       " 'Russian': 38,\n",
       " 'Greek': 39,\n",
       " 'Roast Chicken': 40,\n",
       " 'Salad': 41,\n",
       " 'Bakery': 42,\n",
       " 'African': 43,\n",
       " 'Coffee': 44,\n",
       " 'Mediterranean': 45,\n",
       " 'Naga': 46,\n",
       " 'American': 47,\n",
       " 'Sushi': 48,\n",
       " 'Malwani': 49,\n",
       " 'Tex-Mex': 50,\n",
       " 'Turkish': 51,\n",
       " 'Afghani': 52,\n",
       " 'Street Food': 53,\n",
       " 'Desserts': 54,\n",
       " 'Kashmiri': 55,\n",
       " 'South American': 56,\n",
       " 'Nepalese': 57,\n",
       " 'Lucknowi': 58,\n",
       " 'Oriya': 59,\n",
       " 'Bohri': 60,\n",
       " 'Raw Meats': 61,\n",
       " 'Burmese': 62,\n",
       " 'Pan Asian': 63,\n",
       " 'North Indian': 64,\n",
       " 'Wraps': 65,\n",
       " 'Rajasthani': 66,\n",
       " 'European': 67,\n",
       " 'British': 68,\n",
       " 'South Indian': 69,\n",
       " 'Pizza': 70,\n",
       " 'Seafood': 71,\n",
       " 'German': 72,\n",
       " 'Belgian': 73,\n",
       " 'Beverages': 74,\n",
       " 'Spanish': 75,\n",
       " 'Konkan': 76,\n",
       " 'Portuguese': 77,\n",
       " 'Rolls': 78,\n",
       " 'Sindhi': 79,\n",
       " 'Mexican': 80,\n",
       " 'Andhra': 81,\n",
       " 'Grill': 82,\n",
       " 'Bengali': 83,\n",
       " 'North Eastern': 84,\n",
       " 'Bubble Tea': 85,\n",
       " 'Sandwich': 86,\n",
       " 'Steak': 87,\n",
       " 'Hot dogs': 88,\n",
       " 'Drinks Only': 89,\n",
       " 'Singaporean': 90,\n",
       " 'Italian': 91,\n",
       " 'Cafe': 92,\n",
       " 'Mangalorean': 93,\n",
       " 'Iranian': 94,\n",
       " 'Bar Food': 95,\n",
       " 'Australian': 96,\n",
       " 'Fast Food': 97,\n",
       " 'Ice Cream': 98,\n",
       " 'Finger Food': 99,\n",
       " 'Sri Lankan': 100,\n",
       " 'French': 101,\n",
       " 'Biryani': 102,\n",
       " 'Indonesian': 103,\n",
       " 'Momos': 104,\n",
       " 'Goan': 105,\n",
       " 'Bihari': 106}"
      ]
     },
     "execution_count": 78,
     "metadata": {},
     "output_type": "execute_result"
    }
   ],
   "source": [
    "cuisine_dict"
   ]
  },
  {
   "cell_type": "code",
   "execution_count": 79,
   "metadata": {},
   "outputs": [],
   "source": [
    "def oneHotEncodeCuisine(data, cuisine_set, cuisine_dict):\n",
    "    indexes = data.index\n",
    "    cuisine_encoded_list = []\n",
    "    for i, restaurant_cuisine in enumerate(data):\n",
    "        val = restaurant_cuisine.split(',')\n",
    "        l = [0]*len(cuisine_set)\n",
    "        for value in val:\n",
    "            l[cuisine_dict[value.strip()]] = 1\n",
    "        cuisine_encoded_list.append(l)\n",
    "    df = pd.DataFrame(cuisine_encoded_list, columns = cuisine_set, index = indexes)\n",
    "    return df"
   ]
  },
  {
   "cell_type": "code",
   "execution_count": 80,
   "metadata": {},
   "outputs": [],
   "source": [
    "oneHotEncodedCuisineDF = oneHotEncodeCuisine(df[\"cuisines\"], cuisines_set, cuisine_dict)"
   ]
  },
  {
   "cell_type": "code",
   "execution_count": 81,
   "metadata": {},
   "outputs": [
    {
     "data": {
      "text/html": [
       "<div>\n",
       "<style scoped>\n",
       "    .dataframe tbody tr th:only-of-type {\n",
       "        vertical-align: middle;\n",
       "    }\n",
       "\n",
       "    .dataframe tbody tr th {\n",
       "        vertical-align: top;\n",
       "    }\n",
       "\n",
       "    .dataframe thead th {\n",
       "        text-align: right;\n",
       "    }\n",
       "</style>\n",
       "<table border=\"1\" class=\"dataframe\">\n",
       "  <thead>\n",
       "    <tr style=\"text-align: right;\">\n",
       "      <th></th>\n",
       "      <th>Assamese</th>\n",
       "      <th>Hyderabadi</th>\n",
       "      <th>Tibetan</th>\n",
       "      <th>Arabian</th>\n",
       "      <th>Parsi</th>\n",
       "      <th>Jewish</th>\n",
       "      <th>Chettinad</th>\n",
       "      <th>Kerala</th>\n",
       "      <th>Vegan</th>\n",
       "      <th>Tea</th>\n",
       "      <th>...</th>\n",
       "      <th>Fast Food</th>\n",
       "      <th>Ice Cream</th>\n",
       "      <th>Finger Food</th>\n",
       "      <th>Sri Lankan</th>\n",
       "      <th>French</th>\n",
       "      <th>Biryani</th>\n",
       "      <th>Indonesian</th>\n",
       "      <th>Momos</th>\n",
       "      <th>Goan</th>\n",
       "      <th>Bihari</th>\n",
       "    </tr>\n",
       "  </thead>\n",
       "  <tbody>\n",
       "    <tr>\n",
       "      <td>0</td>\n",
       "      <td>0</td>\n",
       "      <td>0</td>\n",
       "      <td>0</td>\n",
       "      <td>0</td>\n",
       "      <td>0</td>\n",
       "      <td>0</td>\n",
       "      <td>0</td>\n",
       "      <td>0</td>\n",
       "      <td>0</td>\n",
       "      <td>0</td>\n",
       "      <td>...</td>\n",
       "      <td>0</td>\n",
       "      <td>0</td>\n",
       "      <td>0</td>\n",
       "      <td>0</td>\n",
       "      <td>0</td>\n",
       "      <td>0</td>\n",
       "      <td>0</td>\n",
       "      <td>0</td>\n",
       "      <td>0</td>\n",
       "      <td>0</td>\n",
       "    </tr>\n",
       "    <tr>\n",
       "      <td>1</td>\n",
       "      <td>0</td>\n",
       "      <td>0</td>\n",
       "      <td>0</td>\n",
       "      <td>0</td>\n",
       "      <td>0</td>\n",
       "      <td>0</td>\n",
       "      <td>0</td>\n",
       "      <td>0</td>\n",
       "      <td>0</td>\n",
       "      <td>0</td>\n",
       "      <td>...</td>\n",
       "      <td>0</td>\n",
       "      <td>0</td>\n",
       "      <td>0</td>\n",
       "      <td>0</td>\n",
       "      <td>0</td>\n",
       "      <td>0</td>\n",
       "      <td>0</td>\n",
       "      <td>0</td>\n",
       "      <td>0</td>\n",
       "      <td>0</td>\n",
       "    </tr>\n",
       "    <tr>\n",
       "      <td>2</td>\n",
       "      <td>0</td>\n",
       "      <td>0</td>\n",
       "      <td>0</td>\n",
       "      <td>0</td>\n",
       "      <td>0</td>\n",
       "      <td>0</td>\n",
       "      <td>0</td>\n",
       "      <td>0</td>\n",
       "      <td>0</td>\n",
       "      <td>0</td>\n",
       "      <td>...</td>\n",
       "      <td>0</td>\n",
       "      <td>0</td>\n",
       "      <td>0</td>\n",
       "      <td>0</td>\n",
       "      <td>0</td>\n",
       "      <td>0</td>\n",
       "      <td>0</td>\n",
       "      <td>0</td>\n",
       "      <td>0</td>\n",
       "      <td>0</td>\n",
       "    </tr>\n",
       "  </tbody>\n",
       "</table>\n",
       "<p>3 rows × 107 columns</p>\n",
       "</div>"
      ],
      "text/plain": [
       "   Assamese  Hyderabadi  Tibetan  Arabian  Parsi  Jewish  Chettinad  Kerala  \\\n",
       "0         0           0        0        0      0       0          0       0   \n",
       "1         0           0        0        0      0       0          0       0   \n",
       "2         0           0        0        0      0       0          0       0   \n",
       "\n",
       "   Vegan  Tea  ...  Fast Food  Ice Cream  Finger Food  Sri Lankan  French  \\\n",
       "0      0    0  ...          0          0            0           0       0   \n",
       "1      0    0  ...          0          0            0           0       0   \n",
       "2      0    0  ...          0          0            0           0       0   \n",
       "\n",
       "   Biryani  Indonesian  Momos  Goan  Bihari  \n",
       "0        0           0      0     0       0  \n",
       "1        0           0      0     0       0  \n",
       "2        0           0      0     0       0  \n",
       "\n",
       "[3 rows x 107 columns]"
      ]
     },
     "execution_count": 81,
     "metadata": {},
     "output_type": "execute_result"
    }
   ],
   "source": [
    "oneHotEncodedCuisineDF.head(3)"
   ]
  },
  {
   "cell_type": "code",
   "execution_count": 82,
   "metadata": {},
   "outputs": [],
   "source": [
    "df = pd.concat([df, oneHotEncodedCuisineDF], axis = 1)"
   ]
  },
  {
   "cell_type": "code",
   "execution_count": 83,
   "metadata": {},
   "outputs": [
    {
     "data": {
      "text/plain": [
       "0                North Indian, Mughlai, Chinese\n",
       "1                   Chinese, North Indian, Thai\n",
       "2                        Cafe, Mexican, Italian\n",
       "3                    South Indian, North Indian\n",
       "4                      North Indian, Rajasthani\n",
       "                          ...                  \n",
       "51712                               Continental\n",
       "51713                               Finger Food\n",
       "51714                               Finger Food\n",
       "51715                               Finger Food\n",
       "51716    Finger Food, North Indian, Continental\n",
       "Name: cuisines, Length: 51717, dtype: object"
      ]
     },
     "execution_count": 83,
     "metadata": {},
     "output_type": "execute_result"
    }
   ],
   "source": [
    "df.pop('cuisines')"
   ]
  },
  {
   "cell_type": "code",
   "execution_count": 84,
   "metadata": {},
   "outputs": [
    {
     "data": {
      "text/plain": [
       "{'Bakery',\n",
       " 'Bar',\n",
       " 'Beverage Shop',\n",
       " 'Bhojanalya',\n",
       " 'Cafe',\n",
       " 'Casual Dining',\n",
       " 'Club',\n",
       " 'Confectionery',\n",
       " 'Delivery',\n",
       " 'Dessert Parlor',\n",
       " 'Dhaba',\n",
       " 'Fine Dining',\n",
       " 'Food Court',\n",
       " 'Food Truck',\n",
       " 'Irani Cafee',\n",
       " 'Kiosk',\n",
       " 'Lounge',\n",
       " 'Meat Shop',\n",
       " 'Mess',\n",
       " 'Microbrewery',\n",
       " 'Pop Up',\n",
       " 'Pub',\n",
       " 'Quick Bites',\n",
       " 'Sweet Shop',\n",
       " 'Takeaway'}"
      ]
     },
     "execution_count": 84,
     "metadata": {},
     "output_type": "execute_result"
    }
   ],
   "source": [
    "rest_type_set"
   ]
  },
  {
   "cell_type": "code",
   "execution_count": 85,
   "metadata": {},
   "outputs": [],
   "source": [
    "restaurant_dict = {}\n",
    "for i, restaurant in enumerate(rest_type_set):\n",
    "    restaurant_dict[restaurant] = i"
   ]
  },
  {
   "cell_type": "code",
   "execution_count": 86,
   "metadata": {},
   "outputs": [
    {
     "data": {
      "text/plain": [
       "{'Bhojanalya': 0,\n",
       " 'Club': 1,\n",
       " 'Kiosk': 2,\n",
       " 'Quick Bites': 3,\n",
       " 'Pub': 4,\n",
       " 'Meat Shop': 5,\n",
       " 'Fine Dining': 6,\n",
       " 'Bakery': 7,\n",
       " 'Casual Dining': 8,\n",
       " 'Bar': 9,\n",
       " 'Irani Cafee': 10,\n",
       " 'Cafe': 11,\n",
       " 'Takeaway': 12,\n",
       " 'Beverage Shop': 13,\n",
       " 'Food Court': 14,\n",
       " 'Sweet Shop': 15,\n",
       " 'Microbrewery': 16,\n",
       " 'Confectionery': 17,\n",
       " 'Mess': 18,\n",
       " 'Pop Up': 19,\n",
       " 'Dessert Parlor': 20,\n",
       " 'Food Truck': 21,\n",
       " 'Delivery': 22,\n",
       " 'Dhaba': 23,\n",
       " 'Lounge': 24}"
      ]
     },
     "execution_count": 86,
     "metadata": {},
     "output_type": "execute_result"
    }
   ],
   "source": [
    "restaurant_dict"
   ]
  },
  {
   "cell_type": "code",
   "execution_count": 87,
   "metadata": {},
   "outputs": [],
   "source": [
    "def oneHotEncodeRestaurant(data, restaurant_set, restaurant_dict):\n",
    "    indexes = data.index\n",
    "    restaurant_serving_encoded_list = []\n",
    "    for i, restaurant_serving in enumerate(data):\n",
    "        val = restaurant_serving.split(',')\n",
    "        l = [0]*len(restaurant_set)\n",
    "        for value in val:\n",
    "            l[restaurant_dict[value.strip()]] = 1\n",
    "        restaurant_serving_encoded_list.append(l)\n",
    "    df = pd.DataFrame(restaurant_serving_encoded_list, columns = restaurant_set, index = indexes)\n",
    "    return df"
   ]
  },
  {
   "cell_type": "code",
   "execution_count": 88,
   "metadata": {},
   "outputs": [],
   "source": [
    "oneHotEncodedRestDF = oneHotEncodeRestaurant(df[\"rest_type\"], rest_type_set, restaurant_dict)"
   ]
  },
  {
   "cell_type": "code",
   "execution_count": 89,
   "metadata": {},
   "outputs": [
    {
     "data": {
      "text/html": [
       "<div>\n",
       "<style scoped>\n",
       "    .dataframe tbody tr th:only-of-type {\n",
       "        vertical-align: middle;\n",
       "    }\n",
       "\n",
       "    .dataframe tbody tr th {\n",
       "        vertical-align: top;\n",
       "    }\n",
       "\n",
       "    .dataframe thead th {\n",
       "        text-align: right;\n",
       "    }\n",
       "</style>\n",
       "<table border=\"1\" class=\"dataframe\">\n",
       "  <thead>\n",
       "    <tr style=\"text-align: right;\">\n",
       "      <th></th>\n",
       "      <th>Bhojanalya</th>\n",
       "      <th>Club</th>\n",
       "      <th>Kiosk</th>\n",
       "      <th>Quick Bites</th>\n",
       "      <th>Pub</th>\n",
       "      <th>Meat Shop</th>\n",
       "      <th>Fine Dining</th>\n",
       "      <th>Bakery</th>\n",
       "      <th>Casual Dining</th>\n",
       "      <th>Bar</th>\n",
       "      <th>...</th>\n",
       "      <th>Sweet Shop</th>\n",
       "      <th>Microbrewery</th>\n",
       "      <th>Confectionery</th>\n",
       "      <th>Mess</th>\n",
       "      <th>Pop Up</th>\n",
       "      <th>Dessert Parlor</th>\n",
       "      <th>Food Truck</th>\n",
       "      <th>Delivery</th>\n",
       "      <th>Dhaba</th>\n",
       "      <th>Lounge</th>\n",
       "    </tr>\n",
       "  </thead>\n",
       "  <tbody>\n",
       "    <tr>\n",
       "      <td>0</td>\n",
       "      <td>0</td>\n",
       "      <td>0</td>\n",
       "      <td>0</td>\n",
       "      <td>0</td>\n",
       "      <td>0</td>\n",
       "      <td>0</td>\n",
       "      <td>0</td>\n",
       "      <td>0</td>\n",
       "      <td>1</td>\n",
       "      <td>0</td>\n",
       "      <td>...</td>\n",
       "      <td>0</td>\n",
       "      <td>0</td>\n",
       "      <td>0</td>\n",
       "      <td>0</td>\n",
       "      <td>0</td>\n",
       "      <td>0</td>\n",
       "      <td>0</td>\n",
       "      <td>0</td>\n",
       "      <td>0</td>\n",
       "      <td>0</td>\n",
       "    </tr>\n",
       "    <tr>\n",
       "      <td>1</td>\n",
       "      <td>0</td>\n",
       "      <td>0</td>\n",
       "      <td>0</td>\n",
       "      <td>0</td>\n",
       "      <td>0</td>\n",
       "      <td>0</td>\n",
       "      <td>0</td>\n",
       "      <td>0</td>\n",
       "      <td>1</td>\n",
       "      <td>0</td>\n",
       "      <td>...</td>\n",
       "      <td>0</td>\n",
       "      <td>0</td>\n",
       "      <td>0</td>\n",
       "      <td>0</td>\n",
       "      <td>0</td>\n",
       "      <td>0</td>\n",
       "      <td>0</td>\n",
       "      <td>0</td>\n",
       "      <td>0</td>\n",
       "      <td>0</td>\n",
       "    </tr>\n",
       "    <tr>\n",
       "      <td>2</td>\n",
       "      <td>0</td>\n",
       "      <td>0</td>\n",
       "      <td>0</td>\n",
       "      <td>0</td>\n",
       "      <td>0</td>\n",
       "      <td>0</td>\n",
       "      <td>0</td>\n",
       "      <td>0</td>\n",
       "      <td>1</td>\n",
       "      <td>0</td>\n",
       "      <td>...</td>\n",
       "      <td>0</td>\n",
       "      <td>0</td>\n",
       "      <td>0</td>\n",
       "      <td>0</td>\n",
       "      <td>0</td>\n",
       "      <td>0</td>\n",
       "      <td>0</td>\n",
       "      <td>0</td>\n",
       "      <td>0</td>\n",
       "      <td>0</td>\n",
       "    </tr>\n",
       "  </tbody>\n",
       "</table>\n",
       "<p>3 rows × 25 columns</p>\n",
       "</div>"
      ],
      "text/plain": [
       "   Bhojanalya  Club  Kiosk  Quick Bites  Pub  Meat Shop  Fine Dining  Bakery  \\\n",
       "0           0     0      0            0    0          0            0       0   \n",
       "1           0     0      0            0    0          0            0       0   \n",
       "2           0     0      0            0    0          0            0       0   \n",
       "\n",
       "   Casual Dining  Bar  ...  Sweet Shop  Microbrewery  Confectionery  Mess  \\\n",
       "0              1    0  ...           0             0              0     0   \n",
       "1              1    0  ...           0             0              0     0   \n",
       "2              1    0  ...           0             0              0     0   \n",
       "\n",
       "   Pop Up  Dessert Parlor  Food Truck  Delivery  Dhaba  Lounge  \n",
       "0       0               0           0         0      0       0  \n",
       "1       0               0           0         0      0       0  \n",
       "2       0               0           0         0      0       0  \n",
       "\n",
       "[3 rows x 25 columns]"
      ]
     },
     "execution_count": 89,
     "metadata": {},
     "output_type": "execute_result"
    }
   ],
   "source": [
    "oneHotEncodedRestDF.head(3)"
   ]
  },
  {
   "cell_type": "code",
   "execution_count": 90,
   "metadata": {},
   "outputs": [],
   "source": [
    "df = pd.concat([df, oneHotEncodedRestDF], axis = 1)"
   ]
  },
  {
   "cell_type": "code",
   "execution_count": 91,
   "metadata": {},
   "outputs": [
    {
     "data": {
      "text/plain": [
       "0              Casual Dining\n",
       "1              Casual Dining\n",
       "2        Cafe, Casual Dining\n",
       "3                Quick Bites\n",
       "4              Casual Dining\n",
       "                ...         \n",
       "51712                    Bar\n",
       "51713                    Bar\n",
       "51714                    Bar\n",
       "51715                    Bar\n",
       "51716     Bar, Casual Dining\n",
       "Name: rest_type, Length: 51717, dtype: object"
      ]
     },
     "execution_count": 91,
     "metadata": {},
     "output_type": "execute_result"
    }
   ],
   "source": [
    "df.pop('rest_type')"
   ]
  },
  {
   "cell_type": "markdown",
   "metadata": {},
   "source": [
    "### One Hot Encoding listed_in(type) and listed_in(city)"
   ]
  },
  {
   "cell_type": "code",
   "execution_count": 92,
   "metadata": {},
   "outputs": [],
   "source": [
    "cat_columns = [\"listed_in(type)\", \"listed_in(city)\"]"
   ]
  },
  {
   "cell_type": "code",
   "execution_count": 93,
   "metadata": {},
   "outputs": [
    {
     "name": "stdout",
     "output_type": "stream",
     "text": [
      "Transforming column:  listed_in(type)\n",
      "Transforming column:  listed_in(city)\n"
     ]
    }
   ],
   "source": [
    "le = LabelEncoder()\n",
    "for col in cat_columns:\n",
    "    print(\"Transforming column: \", col)\n",
    "    df[col] = le.fit_transform(df[col])"
   ]
  },
  {
   "cell_type": "code",
   "execution_count": 94,
   "metadata": {},
   "outputs": [
    {
     "data": {
      "text/html": [
       "<div>\n",
       "<style scoped>\n",
       "    .dataframe tbody tr th:only-of-type {\n",
       "        vertical-align: middle;\n",
       "    }\n",
       "\n",
       "    .dataframe tbody tr th {\n",
       "        vertical-align: top;\n",
       "    }\n",
       "\n",
       "    .dataframe thead th {\n",
       "        text-align: right;\n",
       "    }\n",
       "</style>\n",
       "<table border=\"1\" class=\"dataframe\">\n",
       "  <thead>\n",
       "    <tr style=\"text-align: right;\">\n",
       "      <th></th>\n",
       "      <th>online_order</th>\n",
       "      <th>book_table</th>\n",
       "      <th>rate</th>\n",
       "      <th>votes</th>\n",
       "      <th>approx_cost(for two people)</th>\n",
       "      <th>listed_in(type)</th>\n",
       "      <th>listed_in(city)</th>\n",
       "      <th>Assamese</th>\n",
       "      <th>Hyderabadi</th>\n",
       "      <th>Tibetan</th>\n",
       "      <th>...</th>\n",
       "      <th>Sweet Shop</th>\n",
       "      <th>Microbrewery</th>\n",
       "      <th>Confectionery</th>\n",
       "      <th>Mess</th>\n",
       "      <th>Pop Up</th>\n",
       "      <th>Dessert Parlor</th>\n",
       "      <th>Food Truck</th>\n",
       "      <th>Delivery</th>\n",
       "      <th>Dhaba</th>\n",
       "      <th>Lounge</th>\n",
       "    </tr>\n",
       "  </thead>\n",
       "  <tbody>\n",
       "    <tr>\n",
       "      <td>0</td>\n",
       "      <td>1</td>\n",
       "      <td>1</td>\n",
       "      <td>1.010532</td>\n",
       "      <td>0.611201</td>\n",
       "      <td>0.559172</td>\n",
       "      <td>0</td>\n",
       "      <td>1</td>\n",
       "      <td>0</td>\n",
       "      <td>0</td>\n",
       "      <td>0</td>\n",
       "      <td>...</td>\n",
       "      <td>0</td>\n",
       "      <td>0</td>\n",
       "      <td>0</td>\n",
       "      <td>0</td>\n",
       "      <td>0</td>\n",
       "      <td>0</td>\n",
       "      <td>0</td>\n",
       "      <td>0</td>\n",
       "      <td>0</td>\n",
       "      <td>0</td>\n",
       "    </tr>\n",
       "    <tr>\n",
       "      <td>1</td>\n",
       "      <td>1</td>\n",
       "      <td>0</td>\n",
       "      <td>1.010532</td>\n",
       "      <td>0.626130</td>\n",
       "      <td>0.559172</td>\n",
       "      <td>0</td>\n",
       "      <td>1</td>\n",
       "      <td>0</td>\n",
       "      <td>0</td>\n",
       "      <td>0</td>\n",
       "      <td>...</td>\n",
       "      <td>0</td>\n",
       "      <td>0</td>\n",
       "      <td>0</td>\n",
       "      <td>0</td>\n",
       "      <td>0</td>\n",
       "      <td>0</td>\n",
       "      <td>0</td>\n",
       "      <td>0</td>\n",
       "      <td>0</td>\n",
       "      <td>0</td>\n",
       "    </tr>\n",
       "    <tr>\n",
       "      <td>2</td>\n",
       "      <td>1</td>\n",
       "      <td>0</td>\n",
       "      <td>0.251782</td>\n",
       "      <td>0.789099</td>\n",
       "      <td>0.559172</td>\n",
       "      <td>0</td>\n",
       "      <td>1</td>\n",
       "      <td>0</td>\n",
       "      <td>0</td>\n",
       "      <td>0</td>\n",
       "      <td>...</td>\n",
       "      <td>0</td>\n",
       "      <td>0</td>\n",
       "      <td>0</td>\n",
       "      <td>0</td>\n",
       "      <td>0</td>\n",
       "      <td>0</td>\n",
       "      <td>0</td>\n",
       "      <td>0</td>\n",
       "      <td>0</td>\n",
       "      <td>0</td>\n",
       "    </tr>\n",
       "  </tbody>\n",
       "</table>\n",
       "<p>3 rows × 139 columns</p>\n",
       "</div>"
      ],
      "text/plain": [
       "   online_order  book_table      rate     votes  approx_cost(for two people)  \\\n",
       "0             1           1  1.010532  0.611201                     0.559172   \n",
       "1             1           0  1.010532  0.626130                     0.559172   \n",
       "2             1           0  0.251782  0.789099                     0.559172   \n",
       "\n",
       "   listed_in(type)  listed_in(city)  Assamese  Hyderabadi  Tibetan  ...  \\\n",
       "0                0                1         0           0        0  ...   \n",
       "1                0                1         0           0        0  ...   \n",
       "2                0                1         0           0        0  ...   \n",
       "\n",
       "   Sweet Shop  Microbrewery  Confectionery  Mess  Pop Up  Dessert Parlor  \\\n",
       "0           0             0              0     0       0               0   \n",
       "1           0             0              0     0       0               0   \n",
       "2           0             0              0     0       0               0   \n",
       "\n",
       "   Food Truck  Delivery  Dhaba  Lounge  \n",
       "0           0         0      0       0  \n",
       "1           0         0      0       0  \n",
       "2           0         0      0       0  \n",
       "\n",
       "[3 rows x 139 columns]"
      ]
     },
     "execution_count": 94,
     "metadata": {},
     "output_type": "execute_result"
    }
   ],
   "source": [
    "df.head(3)"
   ]
  },
  {
   "cell_type": "code",
   "execution_count": 95,
   "metadata": {},
   "outputs": [
    {
     "name": "stderr",
     "output_type": "stream",
     "text": [
      "/Library/Frameworks/Python.framework/Versions/3.6/lib/python3.6/site-packages/sklearn/preprocessing/_encoders.py:415: FutureWarning: The handling of integer data will change in version 0.22. Currently, the categories are determined based on the range [0, max(values)], while in the future they will be determined based on the unique values.\n",
      "If you want the future behaviour and silence this warning, you can specify \"categories='auto'\".\n",
      "In case you used a LabelEncoder before this OneHotEncoder to convert the categories to integers, then you can now use the OneHotEncoder directly.\n",
      "  warnings.warn(msg, FutureWarning)\n",
      "/Library/Frameworks/Python.framework/Versions/3.6/lib/python3.6/site-packages/sklearn/preprocessing/_encoders.py:451: DeprecationWarning: The 'categorical_features' keyword is deprecated in version 0.20 and will be removed in 0.22. You can use the ColumnTransformer instead.\n",
      "  \"use the ColumnTransformer instead.\", DeprecationWarning)\n"
     ]
    }
   ],
   "source": [
    "onehotencoder = OneHotEncoder(categorical_features = [5,6])\n",
    "df = onehotencoder.fit_transform(df).toarray()"
   ]
  },
  {
   "cell_type": "code",
   "execution_count": 96,
   "metadata": {},
   "outputs": [
    {
     "data": {
      "text/plain": [
       "(51717, 174)"
      ]
     },
     "execution_count": 96,
     "metadata": {},
     "output_type": "execute_result"
    }
   ],
   "source": [
    "df.shape"
   ]
  },
  {
   "cell_type": "code",
   "execution_count": 97,
   "metadata": {},
   "outputs": [
    {
     "data": {
      "text/plain": [
       "array([1, 1, 1, ..., 1, 1, 1], dtype=int32)"
      ]
     },
     "execution_count": 97,
     "metadata": {},
     "output_type": "execute_result"
    }
   ],
   "source": [
    "kmeans = KMeans(n_clusters = 2, init = 'k-means++', random_state = 0)\n",
    "kmeans.fit_predict(df)"
   ]
  },
  {
   "cell_type": "code",
   "execution_count": 98,
   "metadata": {},
   "outputs": [],
   "source": [
    "labels = kmeans.labels_"
   ]
  },
  {
   "cell_type": "code",
   "execution_count": 99,
   "metadata": {},
   "outputs": [
    {
     "data": {
      "text/plain": [
       "array([1, 1, 1, ..., 1, 1, 1], dtype=int32)"
      ]
     },
     "execution_count": 99,
     "metadata": {},
     "output_type": "execute_result"
    }
   ],
   "source": [
    "labels"
   ]
  },
  {
   "cell_type": "code",
   "execution_count": 100,
   "metadata": {},
   "outputs": [
    {
     "data": {
      "text/plain": [
       "['url',\n",
       " 'address',\n",
       " 'name',\n",
       " 'online_order',\n",
       " 'book_table',\n",
       " 'rate',\n",
       " 'votes',\n",
       " 'phone',\n",
       " 'location',\n",
       " 'rest_type',\n",
       " 'dish_liked',\n",
       " 'cuisines',\n",
       " 'approx_cost(for two people)',\n",
       " 'reviews_list',\n",
       " 'menu_item',\n",
       " 'listed_in(type)',\n",
       " 'listed_in(city)',\n",
       " 'clusters']"
      ]
     },
     "execution_count": 100,
     "metadata": {},
     "output_type": "execute_result"
    }
   ],
   "source": [
    "columns = df_orig.columns.values.tolist()\n",
    "df_orig['clusters'] = labels\n",
    "columns.extend(['clusters'])\n",
    "columns"
   ]
  },
  {
   "cell_type": "code",
   "execution_count": 101,
   "metadata": {},
   "outputs": [
    {
     "data": {
      "text/html": [
       "<div>\n",
       "<style scoped>\n",
       "    .dataframe tbody tr th:only-of-type {\n",
       "        vertical-align: middle;\n",
       "    }\n",
       "\n",
       "    .dataframe tbody tr th {\n",
       "        vertical-align: top;\n",
       "    }\n",
       "\n",
       "    .dataframe thead th {\n",
       "        text-align: right;\n",
       "    }\n",
       "</style>\n",
       "<table border=\"1\" class=\"dataframe\">\n",
       "  <thead>\n",
       "    <tr style=\"text-align: right;\">\n",
       "      <th></th>\n",
       "      <th>url</th>\n",
       "      <th>address</th>\n",
       "      <th>name</th>\n",
       "      <th>online_order</th>\n",
       "      <th>book_table</th>\n",
       "      <th>rate</th>\n",
       "      <th>votes</th>\n",
       "      <th>phone</th>\n",
       "      <th>location</th>\n",
       "      <th>rest_type</th>\n",
       "      <th>dish_liked</th>\n",
       "      <th>cuisines</th>\n",
       "      <th>approx_cost(for two people)</th>\n",
       "      <th>reviews_list</th>\n",
       "      <th>menu_item</th>\n",
       "      <th>listed_in(type)</th>\n",
       "      <th>listed_in(city)</th>\n",
       "      <th>clusters</th>\n",
       "    </tr>\n",
       "  </thead>\n",
       "  <tbody>\n",
       "    <tr>\n",
       "      <td>0</td>\n",
       "      <td>https://www.zomato.com/bangalore/jalsa-banasha...</td>\n",
       "      <td>942, 21st Main Road, 2nd Stage, Banashankari, ...</td>\n",
       "      <td>Jalsa</td>\n",
       "      <td>Yes</td>\n",
       "      <td>Yes</td>\n",
       "      <td>4.1/5</td>\n",
       "      <td>775</td>\n",
       "      <td>080 42297555\\r\\n+91 9743772233</td>\n",
       "      <td>Banashankari</td>\n",
       "      <td>Casual Dining</td>\n",
       "      <td>Pasta, Lunch Buffet, Masala Papad, Paneer Laja...</td>\n",
       "      <td>North Indian, Mughlai, Chinese</td>\n",
       "      <td>800</td>\n",
       "      <td>[('Rated 4.0', 'RATED\\n  A beautiful place to ...</td>\n",
       "      <td>[]</td>\n",
       "      <td>Buffet</td>\n",
       "      <td>Banashankari</td>\n",
       "      <td>1</td>\n",
       "    </tr>\n",
       "    <tr>\n",
       "      <td>1</td>\n",
       "      <td>https://www.zomato.com/bangalore/spice-elephan...</td>\n",
       "      <td>2nd Floor, 80 Feet Road, Near Big Bazaar, 6th ...</td>\n",
       "      <td>Spice Elephant</td>\n",
       "      <td>Yes</td>\n",
       "      <td>No</td>\n",
       "      <td>4.1/5</td>\n",
       "      <td>787</td>\n",
       "      <td>080 41714161</td>\n",
       "      <td>Banashankari</td>\n",
       "      <td>Casual Dining</td>\n",
       "      <td>Momos, Lunch Buffet, Chocolate Nirvana, Thai G...</td>\n",
       "      <td>Chinese, North Indian, Thai</td>\n",
       "      <td>800</td>\n",
       "      <td>[('Rated 4.0', 'RATED\\n  Had been here for din...</td>\n",
       "      <td>[]</td>\n",
       "      <td>Buffet</td>\n",
       "      <td>Banashankari</td>\n",
       "      <td>1</td>\n",
       "    </tr>\n",
       "    <tr>\n",
       "      <td>2</td>\n",
       "      <td>https://www.zomato.com/SanchurroBangalore?cont...</td>\n",
       "      <td>1112, Next to KIMS Medical College, 17th Cross...</td>\n",
       "      <td>San Churro Cafe</td>\n",
       "      <td>Yes</td>\n",
       "      <td>No</td>\n",
       "      <td>3.8/5</td>\n",
       "      <td>918</td>\n",
       "      <td>+91 9663487993</td>\n",
       "      <td>Banashankari</td>\n",
       "      <td>Cafe, Casual Dining</td>\n",
       "      <td>Churros, Cannelloni, Minestrone Soup, Hot Choc...</td>\n",
       "      <td>Cafe, Mexican, Italian</td>\n",
       "      <td>800</td>\n",
       "      <td>[('Rated 3.0', \"RATED\\n  Ambience is not that ...</td>\n",
       "      <td>[]</td>\n",
       "      <td>Buffet</td>\n",
       "      <td>Banashankari</td>\n",
       "      <td>1</td>\n",
       "    </tr>\n",
       "  </tbody>\n",
       "</table>\n",
       "</div>"
      ],
      "text/plain": [
       "                                                 url  \\\n",
       "0  https://www.zomato.com/bangalore/jalsa-banasha...   \n",
       "1  https://www.zomato.com/bangalore/spice-elephan...   \n",
       "2  https://www.zomato.com/SanchurroBangalore?cont...   \n",
       "\n",
       "                                             address             name  \\\n",
       "0  942, 21st Main Road, 2nd Stage, Banashankari, ...            Jalsa   \n",
       "1  2nd Floor, 80 Feet Road, Near Big Bazaar, 6th ...   Spice Elephant   \n",
       "2  1112, Next to KIMS Medical College, 17th Cross...  San Churro Cafe   \n",
       "\n",
       "  online_order book_table   rate  votes                           phone  \\\n",
       "0          Yes        Yes  4.1/5    775  080 42297555\\r\\n+91 9743772233   \n",
       "1          Yes         No  4.1/5    787                    080 41714161   \n",
       "2          Yes         No  3.8/5    918                  +91 9663487993   \n",
       "\n",
       "       location            rest_type  \\\n",
       "0  Banashankari        Casual Dining   \n",
       "1  Banashankari        Casual Dining   \n",
       "2  Banashankari  Cafe, Casual Dining   \n",
       "\n",
       "                                          dish_liked  \\\n",
       "0  Pasta, Lunch Buffet, Masala Papad, Paneer Laja...   \n",
       "1  Momos, Lunch Buffet, Chocolate Nirvana, Thai G...   \n",
       "2  Churros, Cannelloni, Minestrone Soup, Hot Choc...   \n",
       "\n",
       "                         cuisines approx_cost(for two people)  \\\n",
       "0  North Indian, Mughlai, Chinese                         800   \n",
       "1     Chinese, North Indian, Thai                         800   \n",
       "2          Cafe, Mexican, Italian                         800   \n",
       "\n",
       "                                        reviews_list menu_item  \\\n",
       "0  [('Rated 4.0', 'RATED\\n  A beautiful place to ...        []   \n",
       "1  [('Rated 4.0', 'RATED\\n  Had been here for din...        []   \n",
       "2  [('Rated 3.0', \"RATED\\n  Ambience is not that ...        []   \n",
       "\n",
       "  listed_in(type) listed_in(city)  clusters  \n",
       "0          Buffet    Banashankari         1  \n",
       "1          Buffet    Banashankari         1  \n",
       "2          Buffet    Banashankari         1  "
      ]
     },
     "execution_count": 101,
     "metadata": {},
     "output_type": "execute_result"
    }
   ],
   "source": [
    "df_orig.head(3)"
   ]
  },
  {
   "cell_type": "code",
   "execution_count": 102,
   "metadata": {},
   "outputs": [],
   "source": [
    "df_orig.to_csv('zomato_with_clusters.csv', index = False)"
   ]
  },
  {
   "cell_type": "code",
   "execution_count": 103,
   "metadata": {},
   "outputs": [
    {
     "name": "stdout",
     "output_type": "stream",
     "text": [
      "Counter({0: 43153, 1: 8564})\n"
     ]
    }
   ],
   "source": [
    "cluster_counter = Counter(labels)\n",
    "print(cluster_counter)"
   ]
  },
  {
   "cell_type": "code",
   "execution_count": 104,
   "metadata": {},
   "outputs": [
    {
     "name": "stdout",
     "output_type": "stream",
     "text": [
      "For n_clusters = 2 The average silhouette_score is : 0.28490910349979126\n"
     ]
    }
   ],
   "source": [
    "silhouette_avg = silhouette_score(df, labels)\n",
    "print(\"For n_clusters =\", 2, \"The average silhouette_score is :\", silhouette_avg)"
   ]
  },
  {
   "cell_type": "markdown",
   "metadata": {},
   "source": [
    "### We have got a decent Silhouette score of 0.29"
   ]
  },
  {
   "cell_type": "markdown",
   "metadata": {},
   "source": [
    "## Conclusion and Future Work\n",
    "\n",
    "1. Reviews and Dishes Liked can be used to create features so as to cater clustering. However, this can be treated as a separate task itself.\n",
    "2. A lot of Exploratory Data Analysis can be performed where we pit in explore multiple attributes together such as using Crosstab etc.\n",
    "3. We can create predictors to predict missing categorical values instead of filling them up with the mode."
   ]
  }
 ],
 "metadata": {
  "kernelspec": {
   "display_name": "Python 3",
   "language": "python",
   "name": "python3"
  },
  "language_info": {
   "codemirror_mode": {
    "name": "ipython",
    "version": 3
   },
   "file_extension": ".py",
   "mimetype": "text/x-python",
   "name": "python",
   "nbconvert_exporter": "python",
   "pygments_lexer": "ipython3",
   "version": "3.6.0"
  }
 },
 "nbformat": 4,
 "nbformat_minor": 2
}
